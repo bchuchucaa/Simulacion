{
  "nbformat": 4,
  "nbformat_minor": 0,
  "metadata": {
    "colab": {
      "name": "SimPrueba1.ipynb",
      "provenance": [],
      "collapsed_sections": []
    },
    "kernelspec": {
      "name": "python3",
      "display_name": "Python 3"
    },
    "language_info": {
      "name": "python"
    }
  },
  "cells": [
    {
      "cell_type": "code",
      "metadata": {
        "id": "iLo-1k0ozyY_",
        "colab": {
          "base_uri": "https://localhost:8080/"
        },
        "outputId": "62f6e756-6ea9-43a8-d570-84197e64d78c"
      },
      "source": [
        "import pandas as pd\n",
        "import datetime\n",
        "import numpy as np\n",
        "print(\"LIBRERIAS IMPORTADAS\")"
      ],
      "execution_count": null,
      "outputs": [
        {
          "output_type": "stream",
          "name": "stdout",
          "text": [
            "LIBRERIAS IMPORTADAS\n"
          ]
        }
      ]
    },
    {
      "cell_type": "markdown",
      "metadata": {
        "id": "UG1RSyXik7_m"
      },
      "source": [
        "# Lectura de los datos"
      ]
    },
    {
      "cell_type": "code",
      "metadata": {
        "id": "UyxRh7dNz1Tj"
      },
      "source": [
        "poblacion= pd.read_csv('/content/1.Poblaciones.csv',encoding= 'unicode_escape',delimiter=\";\",header=2)\n",
        "poblacion.rename(columns = {'Unnamed: 0':'Encuesta','Unnamed: 1':'Periodo','Unnamed: 2':'Indicadores','Urbana':'A.Urbana','Rural':'A.Rural'}, inplace = True)\n",
        "poblacion= poblacion[[\"Encuesta\",\"Periodo\",\"Indicadores\",\"Total\",\"A.Urbana\",\"A.Rural\",\"Hombre\",\"Mujer\"]]\n",
        "\n"
      ],
      "execution_count": null,
      "outputs": []
    },
    {
      "cell_type": "markdown",
      "metadata": {
        "id": "y0Dv_xAomxHq"
      },
      "source": [
        "Lectura de datos de la sectorizacion, ademas se divide las categorias para un mejor manejo de los datos."
      ]
    },
    {
      "cell_type": "code",
      "metadata": {
        "colab": {
          "base_uri": "https://localhost:8080/",
          "height": 713
        },
        "id": "hJiu2NPz3tWQ",
        "outputId": "f29529c5-8cf9-4df3-f70b-dae0b00b0f4b"
      },
      "source": [
        "sectorizacion_df = pd.read_csv('/content/4. Sectorizacion delempleo.csv', error_bad_lines=False ,sep=';' , encoding='latin-1' ) \n",
        "sectorizacion_df.iloc[1:5].fillna(\"Nacional\", inplace = True) \n",
        "sectorizacion_df.iloc[1:9].fillna(\"Urbano\", inplace = True) \n",
        "sectorizacion_df.iloc[1:].fillna(\"Rural\", inplace = True)\n",
        "sectorizacion_df=sectorizacion_df.replace('\\%','',regex=True)\n",
        "sectorizacion_df.head(10)"
      ],
      "execution_count": null,
      "outputs": [
        {
          "output_type": "stream",
          "name": "stderr",
          "text": [
            "/usr/local/lib/python3.7/dist-packages/pandas/core/frame.py:4327: SettingWithCopyWarning:\n",
            "\n",
            "\n",
            "A value is trying to be set on a copy of a slice from a DataFrame\n",
            "\n",
            "See the caveats in the documentation: https://pandas.pydata.org/pandas-docs/stable/user_guide/indexing.html#returning-a-view-versus-a-copy\n",
            "\n"
          ]
        },
        {
          "output_type": "execute_result",
          "data": {
            "text/html": [
              "<div>\n",
              "<style scoped>\n",
              "    .dataframe tbody tr th:only-of-type {\n",
              "        vertical-align: middle;\n",
              "    }\n",
              "\n",
              "    .dataframe tbody tr th {\n",
              "        vertical-align: top;\n",
              "    }\n",
              "\n",
              "    .dataframe thead th {\n",
              "        text-align: right;\n",
              "    }\n",
              "</style>\n",
              "<table border=\"1\" class=\"dataframe\">\n",
              "  <thead>\n",
              "    <tr style=\"text-align: right;\">\n",
              "      <th></th>\n",
              "      <th>Unnamed: 0</th>\n",
              "      <th>Unnamed: 1</th>\n",
              "      <th>Unnamed: 2</th>\n",
              "      <th>Unnamed: 3</th>\n",
              "      <th>Unnamed: 4</th>\n",
              "      <th>Unnamed: 5</th>\n",
              "      <th>Unnamed: 6</th>\n",
              "      <th>Unnamed: 7</th>\n",
              "      <th>Unnamed: 8</th>\n",
              "      <th>Unnamed: 9</th>\n",
              "      <th>Unnamed: 10</th>\n",
              "      <th>Unnamed: 11</th>\n",
              "      <th>Unnamed: 12</th>\n",
              "      <th>Unnamed: 13</th>\n",
              "      <th>Unnamed: 14</th>\n",
              "      <th>Unnamed: 15</th>\n",
              "      <th>Unnamed: 16</th>\n",
              "      <th>Unnamed: 17</th>\n",
              "      <th>Unnamed: 18</th>\n",
              "      <th>Unnamed: 19</th>\n",
              "      <th>Unnamed: 20</th>\n",
              "      <th>Unnamed: 21</th>\n",
              "      <th>Unnamed: 22</th>\n",
              "      <th>Unnamed: 23</th>\n",
              "      <th>Unnamed: 24</th>\n",
              "      <th>Unnamed: 25</th>\n",
              "      <th>Unnamed: 26</th>\n",
              "      <th>Unnamed: 27</th>\n",
              "      <th>Unnamed: 28</th>\n",
              "      <th>Unnamed: 29</th>\n",
              "      <th>Unnamed: 30</th>\n",
              "      <th>Unnamed: 31</th>\n",
              "      <th>Unnamed: 32</th>\n",
              "      <th>Unnamed: 33</th>\n",
              "      <th>Unnamed: 34</th>\n",
              "      <th>Unnamed: 35</th>\n",
              "      <th>Unnamed: 36</th>\n",
              "      <th>Unnamed: 37</th>\n",
              "      <th>Unnamed: 38</th>\n",
              "      <th>Unnamed: 39</th>\n",
              "      <th>Unnamed: 40</th>\n",
              "      <th>Unnamed: 41</th>\n",
              "      <th>Unnamed: 42</th>\n",
              "      <th>Unnamed: 43</th>\n",
              "      <th>Unnamed: 44</th>\n",
              "      <th>Unnamed: 45</th>\n",
              "      <th>Unnamed: 46</th>\n",
              "      <th>Unnamed: 47</th>\n",
              "      <th>Unnamed: 48</th>\n",
              "      <th>Unnamed: 49</th>\n",
              "      <th>Unnamed: 50</th>\n",
              "      <th>Unnamed: 51</th>\n",
              "      <th>Unnamed: 52</th>\n",
              "      <th>Unnamed: 53</th>\n",
              "      <th>Unnamed: 54</th>\n",
              "      <th>Unnamed: 55</th>\n",
              "      <th>Unnamed: 56</th>\n",
              "      <th>Unnamed: 57</th>\n",
              "      <th>Unnamed: 58</th>\n",
              "      <th>Unnamed: 59</th>\n",
              "      <th>Unnamed: 60</th>\n",
              "      <th>Unnamed: 61</th>\n",
              "      <th>Unnamed: 62</th>\n",
              "      <th>Unnamed: 63</th>\n",
              "      <th>Unnamed: 64</th>\n",
              "      <th>Unnamed: 65</th>\n",
              "      <th>Unnamed: 66</th>\n",
              "    </tr>\n",
              "  </thead>\n",
              "  <tbody>\n",
              "    <tr>\n",
              "      <th>0</th>\n",
              "      <td>Característica</td>\n",
              "      <td>NaN</td>\n",
              "      <td>jun-07</td>\n",
              "      <td>sep-07</td>\n",
              "      <td>dic-07</td>\n",
              "      <td>mar-08</td>\n",
              "      <td>jun-08</td>\n",
              "      <td>sep-08</td>\n",
              "      <td>dic-08</td>\n",
              "      <td>mar-09</td>\n",
              "      <td>jun-09</td>\n",
              "      <td>sep-09</td>\n",
              "      <td>dic-09</td>\n",
              "      <td>mar-10</td>\n",
              "      <td>jun-10</td>\n",
              "      <td>sep-10</td>\n",
              "      <td>dic-10</td>\n",
              "      <td>mar-11</td>\n",
              "      <td>jun-11</td>\n",
              "      <td>sep-11</td>\n",
              "      <td>dic-11</td>\n",
              "      <td>mar-12</td>\n",
              "      <td>jun-12</td>\n",
              "      <td>sep-12</td>\n",
              "      <td>dic-12</td>\n",
              "      <td>mar-13</td>\n",
              "      <td>jun-13</td>\n",
              "      <td>sep-13</td>\n",
              "      <td>dic-13</td>\n",
              "      <td>mar-14</td>\n",
              "      <td>jun-14</td>\n",
              "      <td>sep-14</td>\n",
              "      <td>dic-14</td>\n",
              "      <td>mar15</td>\n",
              "      <td>jun-15</td>\n",
              "      <td>sep-15</td>\n",
              "      <td>dic-15</td>\n",
              "      <td>mar-16</td>\n",
              "      <td>jun-16</td>\n",
              "      <td>sep-16</td>\n",
              "      <td>dic-16</td>\n",
              "      <td>mar-17</td>\n",
              "      <td>jun-17</td>\n",
              "      <td>sep-17</td>\n",
              "      <td>dic-17</td>\n",
              "      <td>mar-18</td>\n",
              "      <td>jun-18</td>\n",
              "      <td>sep-18</td>\n",
              "      <td>dic-18</td>\n",
              "      <td>mar-19</td>\n",
              "      <td>jun-19</td>\n",
              "      <td>sep-19</td>\n",
              "      <td>dic-19</td>\n",
              "      <td>sep-20</td>\n",
              "      <td>oct-20</td>\n",
              "      <td>nov-20</td>\n",
              "      <td>dic-20</td>\n",
              "      <td>ene-21</td>\n",
              "      <td>feb-21</td>\n",
              "      <td>mar-21</td>\n",
              "      <td>abr-21</td>\n",
              "      <td>may-21</td>\n",
              "      <td>jun-21</td>\n",
              "      <td>jul-21</td>\n",
              "      <td>ago-21</td>\n",
              "      <td>sep-21</td>\n",
              "      <td>oct-21</td>\n",
              "    </tr>\n",
              "    <tr>\n",
              "      <th>1</th>\n",
              "      <td>Nacional</td>\n",
              "      <td>Sector Formal</td>\n",
              "      <td>-</td>\n",
              "      <td>-</td>\n",
              "      <td>41,0</td>\n",
              "      <td>-</td>\n",
              "      <td>42,5</td>\n",
              "      <td>-</td>\n",
              "      <td>43,9</td>\n",
              "      <td>-</td>\n",
              "      <td>-</td>\n",
              "      <td>-</td>\n",
              "      <td>43,7</td>\n",
              "      <td>-</td>\n",
              "      <td>44,9</td>\n",
              "      <td>-</td>\n",
              "      <td>47,2</td>\n",
              "      <td>-</td>\n",
              "      <td>46,3</td>\n",
              "      <td>-</td>\n",
              "      <td>46,5</td>\n",
              "      <td>-</td>\n",
              "      <td>47,4</td>\n",
              "      <td>-</td>\n",
              "      <td>48,7</td>\n",
              "      <td>-</td>\n",
              "      <td>47,6</td>\n",
              "      <td>-</td>\n",
              "      <td>49,3</td>\n",
              "      <td>48,7</td>\n",
              "      <td>50,9</td>\n",
              "      <td>51,2</td>\n",
              "      <td>50,9</td>\n",
              "      <td>49,9</td>\n",
              "      <td>51,2</td>\n",
              "      <td>50,6</td>\n",
              "      <td>50,5</td>\n",
              "      <td>48,7</td>\n",
              "      <td>49,0</td>\n",
              "      <td>47,7</td>\n",
              "      <td>47,6</td>\n",
              "      <td>47,0</td>\n",
              "      <td>47,9</td>\n",
              "      <td>47,4</td>\n",
              "      <td>48,9</td>\n",
              "      <td>48,3</td>\n",
              "      <td>46,0</td>\n",
              "      <td>46,8</td>\n",
              "      <td>46,2</td>\n",
              "      <td>45,7</td>\n",
              "      <td>45,9</td>\n",
              "      <td>46,5</td>\n",
              "      <td>44,7</td>\n",
              "      <td>41,6</td>\n",
              "      <td>42,6</td>\n",
              "      <td>41,0</td>\n",
              "      <td>40,9</td>\n",
              "      <td>41,9</td>\n",
              "      <td>41,4</td>\n",
              "      <td>42,1</td>\n",
              "      <td>39,9</td>\n",
              "      <td>39,7</td>\n",
              "      <td>42,3</td>\n",
              "      <td>40,6</td>\n",
              "      <td>41,2</td>\n",
              "      <td>43,9</td>\n",
              "      <td>41,4</td>\n",
              "    </tr>\n",
              "    <tr>\n",
              "      <th>2</th>\n",
              "      <td>Nacional</td>\n",
              "      <td>Sector Informal</td>\n",
              "      <td>-</td>\n",
              "      <td>-</td>\n",
              "      <td>45,1</td>\n",
              "      <td>-</td>\n",
              "      <td>45,4</td>\n",
              "      <td>-</td>\n",
              "      <td>43,5</td>\n",
              "      <td>-</td>\n",
              "      <td>-</td>\n",
              "      <td>-</td>\n",
              "      <td>43,8</td>\n",
              "      <td>-</td>\n",
              "      <td>42,3</td>\n",
              "      <td>-</td>\n",
              "      <td>42,8</td>\n",
              "      <td>-</td>\n",
              "      <td>42,2</td>\n",
              "      <td>-</td>\n",
              "      <td>42,7</td>\n",
              "      <td>-</td>\n",
              "      <td>41,4</td>\n",
              "      <td>-</td>\n",
              "      <td>40,8</td>\n",
              "      <td>-</td>\n",
              "      <td>43,2</td>\n",
              "      <td>-</td>\n",
              "      <td>40,1</td>\n",
              "      <td>41,8</td>\n",
              "      <td>38,9</td>\n",
              "      <td>41,4</td>\n",
              "      <td>39,7</td>\n",
              "      <td>42,1</td>\n",
              "      <td>39,3</td>\n",
              "      <td>40,6</td>\n",
              "      <td>40,4</td>\n",
              "      <td>43,0</td>\n",
              "      <td>43,0</td>\n",
              "      <td>44,5</td>\n",
              "      <td>43,7</td>\n",
              "      <td>45,6</td>\n",
              "      <td>45,0</td>\n",
              "      <td>46,4</td>\n",
              "      <td>44,1</td>\n",
              "      <td>45,0</td>\n",
              "      <td>47,5</td>\n",
              "      <td>46,2</td>\n",
              "      <td>46,2</td>\n",
              "      <td>46,7</td>\n",
              "      <td>46,3</td>\n",
              "      <td>46,7</td>\n",
              "      <td>46,7</td>\n",
              "      <td>52,5</td>\n",
              "      <td>52,1</td>\n",
              "      <td>52,8</td>\n",
              "      <td>51,6</td>\n",
              "      <td>51,0</td>\n",
              "      <td>49,9</td>\n",
              "      <td>50,9</td>\n",
              "      <td>52,7</td>\n",
              "      <td>52,7</td>\n",
              "      <td>49,9</td>\n",
              "      <td>51,2</td>\n",
              "      <td>50,6</td>\n",
              "      <td>49,2</td>\n",
              "      <td>52,2</td>\n",
              "    </tr>\n",
              "    <tr>\n",
              "      <th>3</th>\n",
              "      <td>Nacional</td>\n",
              "      <td>Empleo Doméstico</td>\n",
              "      <td>-</td>\n",
              "      <td>-</td>\n",
              "      <td>3,3</td>\n",
              "      <td>-</td>\n",
              "      <td>3,3</td>\n",
              "      <td>-</td>\n",
              "      <td>3,5</td>\n",
              "      <td>-</td>\n",
              "      <td>-</td>\n",
              "      <td>-</td>\n",
              "      <td>3,4</td>\n",
              "      <td>-</td>\n",
              "      <td>3,4</td>\n",
              "      <td>-</td>\n",
              "      <td>2,9</td>\n",
              "      <td>-</td>\n",
              "      <td>3,0</td>\n",
              "      <td>-</td>\n",
              "      <td>2,3</td>\n",
              "      <td>-</td>\n",
              "      <td>2,7</td>\n",
              "      <td>-</td>\n",
              "      <td>2,5</td>\n",
              "      <td>-</td>\n",
              "      <td>2,6</td>\n",
              "      <td>-</td>\n",
              "      <td>3,1</td>\n",
              "      <td>3,2</td>\n",
              "      <td>2,7</td>\n",
              "      <td>2,6</td>\n",
              "      <td>3,2</td>\n",
              "      <td>2,7</td>\n",
              "      <td>2,7</td>\n",
              "      <td>2,5</td>\n",
              "      <td>2,7</td>\n",
              "      <td>2,5</td>\n",
              "      <td>2,7</td>\n",
              "      <td>2,6</td>\n",
              "      <td>2,8</td>\n",
              "      <td>2,8</td>\n",
              "      <td>2,8</td>\n",
              "      <td>2,7</td>\n",
              "      <td>2,5</td>\n",
              "      <td>2,6</td>\n",
              "      <td>2,6</td>\n",
              "      <td>2,7</td>\n",
              "      <td>2,9</td>\n",
              "      <td>2,8</td>\n",
              "      <td>2,6</td>\n",
              "      <td>2,6</td>\n",
              "      <td>3,0</td>\n",
              "      <td>1,9</td>\n",
              "      <td>1,5</td>\n",
              "      <td>2,0</td>\n",
              "      <td>2,6</td>\n",
              "      <td>1,8</td>\n",
              "      <td>1,9</td>\n",
              "      <td>1,9</td>\n",
              "      <td>1,9</td>\n",
              "      <td>2,0</td>\n",
              "      <td>2,0</td>\n",
              "      <td>2,1</td>\n",
              "      <td>2,4</td>\n",
              "      <td>2,4</td>\n",
              "      <td>2,2</td>\n",
              "    </tr>\n",
              "    <tr>\n",
              "      <th>4</th>\n",
              "      <td>Nacional</td>\n",
              "      <td>No Clasificados por Sector</td>\n",
              "      <td>-</td>\n",
              "      <td>-</td>\n",
              "      <td>10,6</td>\n",
              "      <td>-</td>\n",
              "      <td>8,8</td>\n",
              "      <td>-</td>\n",
              "      <td>9,2</td>\n",
              "      <td>-</td>\n",
              "      <td>-</td>\n",
              "      <td>-</td>\n",
              "      <td>9,1</td>\n",
              "      <td>-</td>\n",
              "      <td>9,3</td>\n",
              "      <td>-</td>\n",
              "      <td>7,1</td>\n",
              "      <td>-</td>\n",
              "      <td>8,4</td>\n",
              "      <td>-</td>\n",
              "      <td>8,4</td>\n",
              "      <td>-</td>\n",
              "      <td>8,5</td>\n",
              "      <td>-</td>\n",
              "      <td>8,0</td>\n",
              "      <td>-</td>\n",
              "      <td>6,6</td>\n",
              "      <td>-</td>\n",
              "      <td>7,5</td>\n",
              "      <td>6,3</td>\n",
              "      <td>7,4</td>\n",
              "      <td>4,9</td>\n",
              "      <td>6,2</td>\n",
              "      <td>5,3</td>\n",
              "      <td>6,8</td>\n",
              "      <td>6,3</td>\n",
              "      <td>6,5</td>\n",
              "      <td>5,8</td>\n",
              "      <td>5,3</td>\n",
              "      <td>5,3</td>\n",
              "      <td>6,0</td>\n",
              "      <td>4,5</td>\n",
              "      <td>4,3</td>\n",
              "      <td>3,4</td>\n",
              "      <td>4,5</td>\n",
              "      <td>4,1</td>\n",
              "      <td>3,9</td>\n",
              "      <td>4,3</td>\n",
              "      <td>4,8</td>\n",
              "      <td>4,8</td>\n",
              "      <td>5,2</td>\n",
              "      <td>4,3</td>\n",
              "      <td>5,6</td>\n",
              "      <td>4,0</td>\n",
              "      <td>3,8</td>\n",
              "      <td>4,2</td>\n",
              "      <td>4,9</td>\n",
              "      <td>5,4</td>\n",
              "      <td>6,8</td>\n",
              "      <td>5,1</td>\n",
              "      <td>5,5</td>\n",
              "      <td>5,6</td>\n",
              "      <td>5,8</td>\n",
              "      <td>6,2</td>\n",
              "      <td>5,8</td>\n",
              "      <td>4,5</td>\n",
              "      <td>4,2</td>\n",
              "    </tr>\n",
              "    <tr>\n",
              "      <th>5</th>\n",
              "      <td>Urbano</td>\n",
              "      <td>Sector Formal</td>\n",
              "      <td>54,7</td>\n",
              "      <td>55,7</td>\n",
              "      <td>54,1</td>\n",
              "      <td>54,4</td>\n",
              "      <td>55,8</td>\n",
              "      <td>56,0</td>\n",
              "      <td>56,2</td>\n",
              "      <td>57,4</td>\n",
              "      <td>57,7</td>\n",
              "      <td>59,4</td>\n",
              "      <td>57,3</td>\n",
              "      <td>57,5</td>\n",
              "      <td>58,6</td>\n",
              "      <td>59,4</td>\n",
              "      <td>60,8</td>\n",
              "      <td>59,9</td>\n",
              "      <td>60,5</td>\n",
              "      <td>61,0</td>\n",
              "      <td>59,9</td>\n",
              "      <td>63,1</td>\n",
              "      <td>61,6</td>\n",
              "      <td>61,6</td>\n",
              "      <td>62,5</td>\n",
              "      <td>61,2</td>\n",
              "      <td>61,9</td>\n",
              "      <td>62,0</td>\n",
              "      <td>61,9</td>\n",
              "      <td>61,0</td>\n",
              "      <td>63,0</td>\n",
              "      <td>63,6</td>\n",
              "      <td>60,6</td>\n",
              "      <td>61,3</td>\n",
              "      <td>62,6</td>\n",
              "      <td>61,0</td>\n",
              "      <td>60,8</td>\n",
              "      <td>59,6</td>\n",
              "      <td>60,4</td>\n",
              "      <td>58,2</td>\n",
              "      <td>56,6</td>\n",
              "      <td>57,9</td>\n",
              "      <td>58,7</td>\n",
              "      <td>57,3</td>\n",
              "      <td>59,2</td>\n",
              "      <td>59,0</td>\n",
              "      <td>57,5</td>\n",
              "      <td>58,8</td>\n",
              "      <td>57,3</td>\n",
              "      <td>57,4</td>\n",
              "      <td>56,9</td>\n",
              "      <td>57,3</td>\n",
              "      <td>56,3</td>\n",
              "      <td>51,8</td>\n",
              "      <td>53,5</td>\n",
              "      <td>52,8</td>\n",
              "      <td>51,2</td>\n",
              "      <td>53,7</td>\n",
              "      <td>51,9</td>\n",
              "      <td>51,3</td>\n",
              "      <td>50,9</td>\n",
              "      <td>50,7</td>\n",
              "      <td>52,5</td>\n",
              "      <td>50,7</td>\n",
              "      <td>52,1</td>\n",
              "      <td>54,3</td>\n",
              "      <td>52,5</td>\n",
              "    </tr>\n",
              "    <tr>\n",
              "      <th>6</th>\n",
              "      <td>Urbano</td>\n",
              "      <td>Sector Informal</td>\n",
              "      <td>36,9</td>\n",
              "      <td>36,1</td>\n",
              "      <td>34,0</td>\n",
              "      <td>36,6</td>\n",
              "      <td>34,0</td>\n",
              "      <td>35,0</td>\n",
              "      <td>33,2</td>\n",
              "      <td>34,0</td>\n",
              "      <td>32,8</td>\n",
              "      <td>31,6</td>\n",
              "      <td>32,6</td>\n",
              "      <td>33,0</td>\n",
              "      <td>30,9</td>\n",
              "      <td>33,0</td>\n",
              "      <td>31,2</td>\n",
              "      <td>32,0</td>\n",
              "      <td>30,7</td>\n",
              "      <td>31,3</td>\n",
              "      <td>32,5</td>\n",
              "      <td>31,4</td>\n",
              "      <td>29,2</td>\n",
              "      <td>30,6</td>\n",
              "      <td>29,8</td>\n",
              "      <td>32,1</td>\n",
              "      <td>30,8</td>\n",
              "      <td>31,5</td>\n",
              "      <td>29,8</td>\n",
              "      <td>31,3</td>\n",
              "      <td>29,5</td>\n",
              "      <td>29,8</td>\n",
              "      <td>30,9</td>\n",
              "      <td>32,2</td>\n",
              "      <td>29,1</td>\n",
              "      <td>31,8</td>\n",
              "      <td>31,3</td>\n",
              "      <td>32,6</td>\n",
              "      <td>32,4</td>\n",
              "      <td>34,3</td>\n",
              "      <td>35,2</td>\n",
              "      <td>34,9</td>\n",
              "      <td>34,2</td>\n",
              "      <td>36,5</td>\n",
              "      <td>34,3</td>\n",
              "      <td>34,5</td>\n",
              "      <td>36,0</td>\n",
              "      <td>34,2</td>\n",
              "      <td>34,9</td>\n",
              "      <td>34,7</td>\n",
              "      <td>34,9</td>\n",
              "      <td>35,8</td>\n",
              "      <td>34,9</td>\n",
              "      <td>42,1</td>\n",
              "      <td>40,9</td>\n",
              "      <td>41,3</td>\n",
              "      <td>41,1</td>\n",
              "      <td>38,7</td>\n",
              "      <td>39,4</td>\n",
              "      <td>41,1</td>\n",
              "      <td>41,8</td>\n",
              "      <td>41,0</td>\n",
              "      <td>38,8</td>\n",
              "      <td>40,5</td>\n",
              "      <td>39,6</td>\n",
              "      <td>37,9</td>\n",
              "      <td>40,2</td>\n",
              "    </tr>\n",
              "    <tr>\n",
              "      <th>7</th>\n",
              "      <td>Urbano</td>\n",
              "      <td>Empleo Doméstico</td>\n",
              "      <td>4,0</td>\n",
              "      <td>4,1</td>\n",
              "      <td>4,3</td>\n",
              "      <td>3,9</td>\n",
              "      <td>4,0</td>\n",
              "      <td>3,9</td>\n",
              "      <td>4,2</td>\n",
              "      <td>3,7</td>\n",
              "      <td>4,0</td>\n",
              "      <td>3,8</td>\n",
              "      <td>4,1</td>\n",
              "      <td>4,1</td>\n",
              "      <td>4,2</td>\n",
              "      <td>3,5</td>\n",
              "      <td>3,4</td>\n",
              "      <td>3,9</td>\n",
              "      <td>3,8</td>\n",
              "      <td>3,6</td>\n",
              "      <td>2,7</td>\n",
              "      <td>2,9</td>\n",
              "      <td>3,3</td>\n",
              "      <td>3,1</td>\n",
              "      <td>2,9</td>\n",
              "      <td>2,5</td>\n",
              "      <td>3,1</td>\n",
              "      <td>3,2</td>\n",
              "      <td>3,6</td>\n",
              "      <td>3,5</td>\n",
              "      <td>3,1</td>\n",
              "      <td>3,1</td>\n",
              "      <td>3,8</td>\n",
              "      <td>3,1</td>\n",
              "      <td>3,3</td>\n",
              "      <td>3,0</td>\n",
              "      <td>3,2</td>\n",
              "      <td>3,2</td>\n",
              "      <td>3,4</td>\n",
              "      <td>3,1</td>\n",
              "      <td>3,3</td>\n",
              "      <td>3,7</td>\n",
              "      <td>3,6</td>\n",
              "      <td>3,4</td>\n",
              "      <td>3,0</td>\n",
              "      <td>3,3</td>\n",
              "      <td>3,3</td>\n",
              "      <td>3,5</td>\n",
              "      <td>3,6</td>\n",
              "      <td>3,5</td>\n",
              "      <td>3,3</td>\n",
              "      <td>3,3</td>\n",
              "      <td>3,7</td>\n",
              "      <td>2,5</td>\n",
              "      <td>2,0</td>\n",
              "      <td>2,4</td>\n",
              "      <td>3,3</td>\n",
              "      <td>2,4</td>\n",
              "      <td>2,5</td>\n",
              "      <td>2,4</td>\n",
              "      <td>2,5</td>\n",
              "      <td>2,7</td>\n",
              "      <td>2,3</td>\n",
              "      <td>2,6</td>\n",
              "      <td>3,1</td>\n",
              "      <td>3,0</td>\n",
              "      <td>2,8</td>\n",
              "    </tr>\n",
              "    <tr>\n",
              "      <th>8</th>\n",
              "      <td>Urbano</td>\n",
              "      <td>No Clasificados por Sector</td>\n",
              "      <td>4,4</td>\n",
              "      <td>4,1</td>\n",
              "      <td>7,7</td>\n",
              "      <td>5,1</td>\n",
              "      <td>6,2</td>\n",
              "      <td>5,1</td>\n",
              "      <td>6,4</td>\n",
              "      <td>4,8</td>\n",
              "      <td>5,5</td>\n",
              "      <td>5,1</td>\n",
              "      <td>6,0</td>\n",
              "      <td>5,4</td>\n",
              "      <td>6,2</td>\n",
              "      <td>4,1</td>\n",
              "      <td>4,6</td>\n",
              "      <td>4,2</td>\n",
              "      <td>5,0</td>\n",
              "      <td>4,1</td>\n",
              "      <td>4,8</td>\n",
              "      <td>2,5</td>\n",
              "      <td>5,9</td>\n",
              "      <td>4,6</td>\n",
              "      <td>4,9</td>\n",
              "      <td>4,2</td>\n",
              "      <td>4,2</td>\n",
              "      <td>3,4</td>\n",
              "      <td>4,7</td>\n",
              "      <td>4,2</td>\n",
              "      <td>4,4</td>\n",
              "      <td>3,5</td>\n",
              "      <td>4,7</td>\n",
              "      <td>3,4</td>\n",
              "      <td>5,0</td>\n",
              "      <td>4,3</td>\n",
              "      <td>4,7</td>\n",
              "      <td>4,6</td>\n",
              "      <td>3,8</td>\n",
              "      <td>4,4</td>\n",
              "      <td>5,0</td>\n",
              "      <td>3,5</td>\n",
              "      <td>3,5</td>\n",
              "      <td>2,8</td>\n",
              "      <td>3,6</td>\n",
              "      <td>3,2</td>\n",
              "      <td>3,2</td>\n",
              "      <td>3,5</td>\n",
              "      <td>4,2</td>\n",
              "      <td>4,3</td>\n",
              "      <td>4,9</td>\n",
              "      <td>3,6</td>\n",
              "      <td>5,1</td>\n",
              "      <td>3,6</td>\n",
              "      <td>3,7</td>\n",
              "      <td>3,5</td>\n",
              "      <td>4,4</td>\n",
              "      <td>5,2</td>\n",
              "      <td>6,1</td>\n",
              "      <td>5,1</td>\n",
              "      <td>4,7</td>\n",
              "      <td>5,6</td>\n",
              "      <td>6,3</td>\n",
              "      <td>6,2</td>\n",
              "      <td>5,3</td>\n",
              "      <td>4,8</td>\n",
              "      <td>4,4</td>\n",
              "    </tr>\n",
              "    <tr>\n",
              "      <th>9</th>\n",
              "      <td>Rural</td>\n",
              "      <td>Sector Formal</td>\n",
              "      <td>-</td>\n",
              "      <td>-</td>\n",
              "      <td>15,5</td>\n",
              "      <td>-</td>\n",
              "      <td>16,2</td>\n",
              "      <td>-</td>\n",
              "      <td>19,1</td>\n",
              "      <td>-</td>\n",
              "      <td>-</td>\n",
              "      <td>-</td>\n",
              "      <td>17,2</td>\n",
              "      <td>-</td>\n",
              "      <td>18,4</td>\n",
              "      <td>-</td>\n",
              "      <td>20,5</td>\n",
              "      <td>-</td>\n",
              "      <td>18,9</td>\n",
              "      <td>-</td>\n",
              "      <td>19,6</td>\n",
              "      <td>-</td>\n",
              "      <td>19,9</td>\n",
              "      <td>-</td>\n",
              "      <td>21,2</td>\n",
              "      <td>-</td>\n",
              "      <td>20,9</td>\n",
              "      <td>-</td>\n",
              "      <td>23,6</td>\n",
              "      <td>23,4</td>\n",
              "      <td>25,2</td>\n",
              "      <td>25,2</td>\n",
              "      <td>31,0</td>\n",
              "      <td>28,5</td>\n",
              "      <td>28,9</td>\n",
              "      <td>29,8</td>\n",
              "      <td>28,7</td>\n",
              "      <td>27,5</td>\n",
              "      <td>27,1</td>\n",
              "      <td>27,6</td>\n",
              "      <td>29,6</td>\n",
              "      <td>26,7</td>\n",
              "      <td>27,0</td>\n",
              "      <td>28,0</td>\n",
              "      <td>28,1</td>\n",
              "      <td>27,7</td>\n",
              "      <td>24,2</td>\n",
              "      <td>23,4</td>\n",
              "      <td>24,4</td>\n",
              "      <td>23,7</td>\n",
              "      <td>25,3</td>\n",
              "      <td>25,8</td>\n",
              "      <td>22,3</td>\n",
              "      <td>22,9</td>\n",
              "      <td>22,5</td>\n",
              "      <td>19,7</td>\n",
              "      <td>21,4</td>\n",
              "      <td>20,8</td>\n",
              "      <td>22,1</td>\n",
              "      <td>25,2</td>\n",
              "      <td>20,2</td>\n",
              "      <td>19,9</td>\n",
              "      <td>23,1</td>\n",
              "      <td>21,2</td>\n",
              "      <td>21,0</td>\n",
              "      <td>24,9</td>\n",
              "      <td>20,4</td>\n",
              "    </tr>\n",
              "  </tbody>\n",
              "</table>\n",
              "</div>"
            ],
            "text/plain": [
              "       Unnamed: 0                  Unnamed: 1  ... Unnamed: 65 Unnamed: 66\n",
              "0  Característica                         NaN  ...      sep-21      oct-21\n",
              "1        Nacional               Sector Formal  ...        43,9        41,4\n",
              "2        Nacional             Sector Informal  ...        49,2        52,2\n",
              "3        Nacional            Empleo Doméstico  ...         2,4         2,2\n",
              "4        Nacional  No Clasificados por Sector  ...         4,5         4,2\n",
              "5          Urbano               Sector Formal  ...        54,3        52,5\n",
              "6          Urbano             Sector Informal  ...        37,9        40,2\n",
              "7          Urbano            Empleo Doméstico  ...         3,0         2,8\n",
              "8          Urbano  No Clasificados por Sector  ...         4,8         4,4\n",
              "9           Rural               Sector Formal  ...        24,9        20,4\n",
              "\n",
              "[10 rows x 67 columns]"
            ]
          },
          "metadata": {},
          "execution_count": 121
        }
      ]
    },
    {
      "cell_type": "markdown",
      "metadata": {
        "id": "vXvRABx8lHFZ"
      },
      "source": [
        "# Preprocesamiento"
      ]
    },
    {
      "cell_type": "markdown",
      "metadata": {
        "id": "FUxVxgjingq7"
      },
      "source": [
        "Verificamos que el dataset no contenga valores nulos, en este caso nos dio 0 por lo cual no tenemos ausencia de valores en la data.\n"
      ]
    },
    {
      "cell_type": "code",
      "metadata": {
        "id": "TeJypCJt9q8M",
        "colab": {
          "base_uri": "https://localhost:8080/"
        },
        "outputId": "3c91ddaa-a9f9-46a5-e000-d0aba678d059"
      },
      "source": [
        "print('Valores nulos en la data',poblacion.isnull().sum().sum())"
      ],
      "execution_count": null,
      "outputs": [
        {
          "output_type": "stream",
          "name": "stdout",
          "text": [
            "Valores nulos en la data 0\n"
          ]
        }
      ]
    },
    {
      "cell_type": "code",
      "metadata": {
        "colab": {
          "base_uri": "https://localhost:8080/",
          "height": 313
        },
        "id": "THKKZRYdm61b",
        "outputId": "a868ad77-c0b9-4061-c1da-9f09c671aedf"
      },
      "source": [
        "poblacion.head()"
      ],
      "execution_count": null,
      "outputs": [
        {
          "output_type": "execute_result",
          "data": {
            "text/html": [
              "<div>\n",
              "<style scoped>\n",
              "    .dataframe tbody tr th:only-of-type {\n",
              "        vertical-align: middle;\n",
              "    }\n",
              "\n",
              "    .dataframe tbody tr th {\n",
              "        vertical-align: top;\n",
              "    }\n",
              "\n",
              "    .dataframe thead th {\n",
              "        text-align: right;\n",
              "    }\n",
              "</style>\n",
              "<table border=\"1\" class=\"dataframe\">\n",
              "  <thead>\n",
              "    <tr style=\"text-align: right;\">\n",
              "      <th></th>\n",
              "      <th>Encuesta</th>\n",
              "      <th>Periodo</th>\n",
              "      <th>Indicadores</th>\n",
              "      <th>Total</th>\n",
              "      <th>A.Urbana</th>\n",
              "      <th>A.Rural</th>\n",
              "      <th>Hombre</th>\n",
              "      <th>Mujer</th>\n",
              "    </tr>\n",
              "  </thead>\n",
              "  <tbody>\n",
              "    <tr>\n",
              "      <th>0</th>\n",
              "      <td>ENEMDU</td>\n",
              "      <td>dic-07</td>\n",
              "      <td>Población Total</td>\n",
              "      <td>13.682.302</td>\n",
              "      <td>9.066.209</td>\n",
              "      <td>4.616.093</td>\n",
              "      <td>6.768.646</td>\n",
              "      <td>6.913.656</td>\n",
              "    </tr>\n",
              "    <tr>\n",
              "      <th>1</th>\n",
              "      <td>ENEMDU</td>\n",
              "      <td>dic-07</td>\n",
              "      <td>Población menor de 15 años</td>\n",
              "      <td>4.372.812</td>\n",
              "      <td>2.723.124</td>\n",
              "      <td>1.649.688</td>\n",
              "      <td>2.226.618</td>\n",
              "      <td>2.146.194</td>\n",
              "    </tr>\n",
              "    <tr>\n",
              "      <th>2</th>\n",
              "      <td>ENEMDU</td>\n",
              "      <td>dic-07</td>\n",
              "      <td>Población en Edad de Trabajar (PET)</td>\n",
              "      <td>9.309.490</td>\n",
              "      <td>6.343.085</td>\n",
              "      <td>2.966.404</td>\n",
              "      <td>4.542.028</td>\n",
              "      <td>4.767.462</td>\n",
              "    </tr>\n",
              "    <tr>\n",
              "      <th>3</th>\n",
              "      <td>ENEMDU</td>\n",
              "      <td>dic-07</td>\n",
              "      <td>Población Económicamente Activa</td>\n",
              "      <td>6.336.029</td>\n",
              "      <td>4.227.702</td>\n",
              "      <td>2.108.328</td>\n",
              "      <td>3.777.232</td>\n",
              "      <td>2.558.798</td>\n",
              "    </tr>\n",
              "    <tr>\n",
              "      <th>4</th>\n",
              "      <td>ENEMDU</td>\n",
              "      <td>dic-07</td>\n",
              "      <td>Empleo</td>\n",
              "      <td>6.019.332</td>\n",
              "      <td>3.971.040</td>\n",
              "      <td>2.048.292</td>\n",
              "      <td>3.632.314</td>\n",
              "      <td>2.387.018</td>\n",
              "    </tr>\n",
              "  </tbody>\n",
              "</table>\n",
              "</div>"
            ],
            "text/plain": [
              "  Encuesta Periodo  ...     Hombre      Mujer\n",
              "0   ENEMDU  dic-07  ...  6.768.646  6.913.656\n",
              "1   ENEMDU  dic-07  ...  2.226.618  2.146.194\n",
              "2   ENEMDU  dic-07  ...  4.542.028  4.767.462\n",
              "3   ENEMDU  dic-07  ...  3.777.232  2.558.798\n",
              "4   ENEMDU  dic-07  ...  3.632.314  2.387.018\n",
              "\n",
              "[5 rows x 8 columns]"
            ]
          },
          "metadata": {},
          "execution_count": 7
        }
      ]
    },
    {
      "cell_type": "markdown",
      "metadata": {
        "id": "ryn_GpCVquhJ"
      },
      "source": [
        "## Formateamos la fecha del dataset"
      ]
    },
    {
      "cell_type": "code",
      "metadata": {
        "id": "_ZBnShwZDxrR"
      },
      "source": [
        "meses={\"ene\":\"jan\",\"feb\":\"feb\",\"mar\":\"mar\",\"abr\":\"apr\",\"may\":\"may\",\"jun\":\"jun\",\"jul\":\"jul\",\"ago\":\"aug\",\"sep\":\"sep\",\"oct\":\"oct\",\"nov\":\"nov\",\"dic\":\"dec\"}\n",
        "for i in range(len(poblacion)):\n",
        "  month_name=str(poblacion.Periodo.iloc[i]).split('-')[0]\n",
        "  month_name= meses.get(month_name)\n",
        "  datetime_object = datetime.datetime.strptime(month_name, \"%b\")\n",
        "  month_number = datetime_object.month\n",
        "  year=str(poblacion.Periodo.iloc[i]).split('-')[1]\n",
        "  date_formated=(\"20\"+str(year)+\"-\"+str(month_number)+\"-01\")\n",
        "  poblacion.Periodo.iloc[i]=date_formated\n",
        "  "
      ],
      "execution_count": null,
      "outputs": []
    },
    {
      "cell_type": "code",
      "metadata": {
        "id": "iPWf2NzRHjWl"
      },
      "source": [
        "poblacion['Periodo'] = pd.to_datetime(poblacion['Periodo'],format='%Y-%m-%d')\n",
        "poblacion['Total'] = poblacion['Total'].str.replace(r'.', '')\n",
        "poblacion['Total']=poblacion[\"Total\"].astype(int)"
      ],
      "execution_count": null,
      "outputs": []
    },
    {
      "cell_type": "markdown",
      "metadata": {
        "id": "cYFWoTpTq2kU"
      },
      "source": [
        "Visualizamos la fecha de inicio y fin de las muestras que tenemos como referencias"
      ]
    },
    {
      "cell_type": "code",
      "metadata": {
        "colab": {
          "base_uri": "https://localhost:8080/"
        },
        "id": "ieuSGmNhHusJ",
        "outputId": "fd09caac-92fb-4908-d737-f72b75152fb7"
      },
      "source": [
        "print(poblacion.Periodo.min())\n",
        "print(poblacion.Periodo.max())"
      ],
      "execution_count": null,
      "outputs": [
        {
          "output_type": "stream",
          "name": "stdout",
          "text": [
            "2007-12-01 00:00:00\n",
            "2021-10-01 00:00:00\n"
          ]
        }
      ]
    },
    {
      "cell_type": "markdown",
      "metadata": {
        "id": "eo01Pxulq_V0"
      },
      "source": [
        "Obtenemos una lista que nos ayudara a seleccionar las columnas de interes dentro del dataframe"
      ]
    },
    {
      "cell_type": "code",
      "metadata": {
        "colab": {
          "base_uri": "https://localhost:8080/"
        },
        "id": "JJlKDhENIWt2",
        "outputId": "dab90ee6-26a7-4b9d-f1be-dbcbace42da0"
      },
      "source": [
        "poblacion.Indicadores.unique()"
      ],
      "execution_count": null,
      "outputs": [
        {
          "output_type": "execute_result",
          "data": {
            "text/plain": [
              "array(['Población Total', 'Población menor de 15 años',\n",
              "       'Población en Edad de Trabajar (PET)',\n",
              "       'Población Económicamente Activa', 'Empleo',\n",
              "       'Empleo Adecuado/Pleno', 'Subempleo',\n",
              "       'Subempleo por insuficiencia de tiempo de trabajo',\n",
              "       'Subempleo por insuficiencia de ingresos', 'Empleo no remunerado',\n",
              "       'Otro Empleo no pleno', 'Empleo no clasificado', 'Desempleo',\n",
              "       'Desempleo Abierto', 'Desempleo Oculto', 'Desempleo Cesante',\n",
              "       'Desempleo Nuevo', 'Población Económicamente Inactiva',\n",
              "       'Población Total '], dtype=object)"
            ]
          },
          "metadata": {},
          "execution_count": 11
        }
      ]
    },
    {
      "cell_type": "markdown",
      "metadata": {
        "id": "R8a02ljGrIKK"
      },
      "source": [
        "Seleccionamos las categorias en cuestion: categorias de empleo y desempleo."
      ]
    },
    {
      "cell_type": "code",
      "metadata": {
        "id": "ZCVAOhGaI67u"
      },
      "source": [
        "cat_empleo=['Empleo',\n",
        "       'Empleo Adecuado/Pleno', 'Subempleo',\n",
        "       'Subempleo por insuficiencia de tiempo de trabajo',\n",
        "       'Subempleo por insuficiencia de ingresos', 'Empleo no remunerado',\n",
        "       'Otro Empleo no pleno', 'Empleo no clasificado']\n",
        "cat_desempleo=['Desempleo',\n",
        "       'Desempleo Abierto', 'Desempleo Oculto', 'Desempleo Cesante',\n",
        "       'Desempleo Nuevo']\n",
        "pob_empleada=poblacion.loc[poblacion['Indicadores'].isin(cat_empleo)]\n",
        "pob_desempleada=poblacion.loc[poblacion['Indicadores'].isin(cat_desempleo)]"
      ],
      "execution_count": null,
      "outputs": []
    },
    {
      "cell_type": "markdown",
      "metadata": {
        "id": "fyk3J8EhrPlc"
      },
      "source": [
        "Usamos las series de tiempo para organizar el dataframe en referencia a la fecha"
      ]
    },
    {
      "cell_type": "code",
      "metadata": {
        "id": "1dVyMCq0zGh-"
      },
      "source": [
        "#Dataframe con datos de las personas empleadas\n",
        "pob_empleada = pob_empleada.set_index(\"Periodo\")\n",
        "pob_empleada = pd.DataFrame(pob_empleada)"
      ],
      "execution_count": null,
      "outputs": []
    },
    {
      "cell_type": "code",
      "metadata": {
        "id": "AiMJsiPdFRbq"
      },
      "source": [
        "#Dataframe con datos de las personas desempleadas\n",
        "pob_desempleada = pob_desempleada.set_index(\"Periodo\")\n",
        "pob_desempleada = pd.DataFrame(pob_desempleada)"
      ],
      "execution_count": null,
      "outputs": []
    },
    {
      "cell_type": "code",
      "metadata": {
        "colab": {
          "base_uri": "https://localhost:8080/",
          "height": 359
        },
        "id": "AMixpSmox6n7",
        "outputId": "4a4f376e-3ae4-48da-a920-bc8520bdab18"
      },
      "source": [
        "resume_employed=pob_empleada[pob_empleada.index.month == 12]\n",
        "resume_employed.head(5)"
      ],
      "execution_count": null,
      "outputs": [
        {
          "output_type": "execute_result",
          "data": {
            "text/html": [
              "<div>\n",
              "<style scoped>\n",
              "    .dataframe tbody tr th:only-of-type {\n",
              "        vertical-align: middle;\n",
              "    }\n",
              "\n",
              "    .dataframe tbody tr th {\n",
              "        vertical-align: top;\n",
              "    }\n",
              "\n",
              "    .dataframe thead th {\n",
              "        text-align: right;\n",
              "    }\n",
              "</style>\n",
              "<table border=\"1\" class=\"dataframe\">\n",
              "  <thead>\n",
              "    <tr style=\"text-align: right;\">\n",
              "      <th></th>\n",
              "      <th>Encuesta</th>\n",
              "      <th>Indicadores</th>\n",
              "      <th>Total</th>\n",
              "      <th>A.Urbana</th>\n",
              "      <th>A.Rural</th>\n",
              "      <th>Hombre</th>\n",
              "      <th>Mujer</th>\n",
              "    </tr>\n",
              "    <tr>\n",
              "      <th>Periodo</th>\n",
              "      <th></th>\n",
              "      <th></th>\n",
              "      <th></th>\n",
              "      <th></th>\n",
              "      <th></th>\n",
              "      <th></th>\n",
              "      <th></th>\n",
              "    </tr>\n",
              "  </thead>\n",
              "  <tbody>\n",
              "    <tr>\n",
              "      <th>2007-12-01</th>\n",
              "      <td>ENEMDU</td>\n",
              "      <td>Empleo</td>\n",
              "      <td>6019332</td>\n",
              "      <td>3.971.040</td>\n",
              "      <td>2.048.292</td>\n",
              "      <td>3.632.314</td>\n",
              "      <td>2.387.018</td>\n",
              "    </tr>\n",
              "    <tr>\n",
              "      <th>2007-12-01</th>\n",
              "      <td>ENEMDU</td>\n",
              "      <td>Empleo Adecuado/Pleno</td>\n",
              "      <td>2737158</td>\n",
              "      <td>2.236.440</td>\n",
              "      <td>500.719</td>\n",
              "      <td>1.907.451</td>\n",
              "      <td>829.707</td>\n",
              "    </tr>\n",
              "    <tr>\n",
              "      <th>2007-12-01</th>\n",
              "      <td>ENEMDU</td>\n",
              "      <td>Subempleo</td>\n",
              "      <td>1155872</td>\n",
              "      <td>687.714</td>\n",
              "      <td>468.158</td>\n",
              "      <td>679.118</td>\n",
              "      <td>476.753</td>\n",
              "    </tr>\n",
              "    <tr>\n",
              "      <th>2007-12-01</th>\n",
              "      <td>ENEMDU</td>\n",
              "      <td>Subempleo por insuficiencia de tiempo de trabajo</td>\n",
              "      <td>860315</td>\n",
              "      <td>519.627</td>\n",
              "      <td>340.688</td>\n",
              "      <td>474.355</td>\n",
              "      <td>385.960</td>\n",
              "    </tr>\n",
              "    <tr>\n",
              "      <th>2007-12-01</th>\n",
              "      <td>ENEMDU</td>\n",
              "      <td>Subempleo por insuficiencia de ingresos</td>\n",
              "      <td>295556</td>\n",
              "      <td>168.087</td>\n",
              "      <td>127.470</td>\n",
              "      <td>204.763</td>\n",
              "      <td>90.793</td>\n",
              "    </tr>\n",
              "  </tbody>\n",
              "</table>\n",
              "</div>"
            ],
            "text/plain": [
              "           Encuesta  ...      Mujer\n",
              "Periodo              ...           \n",
              "2007-12-01   ENEMDU  ...  2.387.018\n",
              "2007-12-01   ENEMDU  ...    829.707\n",
              "2007-12-01   ENEMDU  ...    476.753\n",
              "2007-12-01   ENEMDU  ...    385.960\n",
              "2007-12-01   ENEMDU  ...     90.793\n",
              "\n",
              "[5 rows x 7 columns]"
            ]
          },
          "metadata": {},
          "execution_count": 15
        }
      ]
    },
    {
      "cell_type": "code",
      "metadata": {
        "colab": {
          "base_uri": "https://localhost:8080/",
          "height": 238
        },
        "id": "99kFt_IHFVjD",
        "outputId": "2b75d614-30df-4a0b-cbff-9dcd077aaa04"
      },
      "source": [
        "resume_unemployed=pob_desempleada[pob_desempleada.index.month == 12]\n",
        "resume_unemployed.head(5)"
      ],
      "execution_count": null,
      "outputs": [
        {
          "output_type": "execute_result",
          "data": {
            "text/html": [
              "<div>\n",
              "<style scoped>\n",
              "    .dataframe tbody tr th:only-of-type {\n",
              "        vertical-align: middle;\n",
              "    }\n",
              "\n",
              "    .dataframe tbody tr th {\n",
              "        vertical-align: top;\n",
              "    }\n",
              "\n",
              "    .dataframe thead th {\n",
              "        text-align: right;\n",
              "    }\n",
              "</style>\n",
              "<table border=\"1\" class=\"dataframe\">\n",
              "  <thead>\n",
              "    <tr style=\"text-align: right;\">\n",
              "      <th></th>\n",
              "      <th>Encuesta</th>\n",
              "      <th>Indicadores</th>\n",
              "      <th>Total</th>\n",
              "      <th>A.Urbana</th>\n",
              "      <th>A.Rural</th>\n",
              "      <th>Hombre</th>\n",
              "      <th>Mujer</th>\n",
              "    </tr>\n",
              "    <tr>\n",
              "      <th>Periodo</th>\n",
              "      <th></th>\n",
              "      <th></th>\n",
              "      <th></th>\n",
              "      <th></th>\n",
              "      <th></th>\n",
              "      <th></th>\n",
              "      <th></th>\n",
              "    </tr>\n",
              "  </thead>\n",
              "  <tbody>\n",
              "    <tr>\n",
              "      <th>2007-12-01</th>\n",
              "      <td>ENEMDU</td>\n",
              "      <td>Desempleo</td>\n",
              "      <td>316697</td>\n",
              "      <td>256.662</td>\n",
              "      <td>60.036</td>\n",
              "      <td>144.918</td>\n",
              "      <td>171.780</td>\n",
              "    </tr>\n",
              "    <tr>\n",
              "      <th>2007-12-01</th>\n",
              "      <td>ENEMDU</td>\n",
              "      <td>Desempleo Abierto</td>\n",
              "      <td>193225</td>\n",
              "      <td>168.728</td>\n",
              "      <td>24.497</td>\n",
              "      <td>97.565</td>\n",
              "      <td>95.660</td>\n",
              "    </tr>\n",
              "    <tr>\n",
              "      <th>2007-12-01</th>\n",
              "      <td>ENEMDU</td>\n",
              "      <td>Desempleo Oculto</td>\n",
              "      <td>123472</td>\n",
              "      <td>87.934</td>\n",
              "      <td>35.539</td>\n",
              "      <td>47.353</td>\n",
              "      <td>76.119</td>\n",
              "    </tr>\n",
              "    <tr>\n",
              "      <th>2007-12-01</th>\n",
              "      <td>ENEMDU</td>\n",
              "      <td>Desempleo Cesante</td>\n",
              "      <td>190044</td>\n",
              "      <td>160.289</td>\n",
              "      <td>29.755</td>\n",
              "      <td>99.490</td>\n",
              "      <td>90.554</td>\n",
              "    </tr>\n",
              "    <tr>\n",
              "      <th>2007-12-01</th>\n",
              "      <td>ENEMDU</td>\n",
              "      <td>Desempleo Nuevo</td>\n",
              "      <td>126653</td>\n",
              "      <td>96.372</td>\n",
              "      <td>30.281</td>\n",
              "      <td>45.427</td>\n",
              "      <td>81.226</td>\n",
              "    </tr>\n",
              "  </tbody>\n",
              "</table>\n",
              "</div>"
            ],
            "text/plain": [
              "           Encuesta        Indicadores   Total  ... A.Rural   Hombre    Mujer\n",
              "Periodo                                         ...                          \n",
              "2007-12-01   ENEMDU          Desempleo  316697  ...  60.036  144.918  171.780\n",
              "2007-12-01   ENEMDU  Desempleo Abierto  193225  ...  24.497   97.565   95.660\n",
              "2007-12-01   ENEMDU   Desempleo Oculto  123472  ...  35.539   47.353   76.119\n",
              "2007-12-01   ENEMDU  Desempleo Cesante  190044  ...  29.755   99.490   90.554\n",
              "2007-12-01   ENEMDU    Desempleo Nuevo  126653  ...  30.281   45.427   81.226\n",
              "\n",
              "[5 rows x 7 columns]"
            ]
          },
          "metadata": {},
          "execution_count": 16
        }
      ]
    },
    {
      "cell_type": "code",
      "metadata": {
        "id": "5ciuEo6dwj6P"
      },
      "source": [
        "resume_employed=resume_employed.groupby(resume_employed.index)['Total'].sum()\n",
        "resume_employed=pd.DataFrame(resume_employed)"
      ],
      "execution_count": null,
      "outputs": []
    },
    {
      "cell_type": "code",
      "metadata": {
        "id": "fS3cUQ13FoWr"
      },
      "source": [
        "resume_unemployed=resume_unemployed.groupby(resume_unemployed.index)['Total'].sum()\n",
        "resume_unemployed=pd.DataFrame(resume_unemployed)"
      ],
      "execution_count": null,
      "outputs": []
    },
    {
      "cell_type": "markdown",
      "metadata": {
        "id": "TXcJCXNOrh80"
      },
      "source": [
        "Obtenemos la grafica de empleo en el Ecuador a traves del tiempo "
      ]
    },
    {
      "cell_type": "code",
      "metadata": {
        "colab": {
          "base_uri": "https://localhost:8080/",
          "height": 542
        },
        "id": "szxfsHKgDwIQ",
        "outputId": "b054c9bc-0ab7-4acc-b35a-5a70ac90221e"
      },
      "source": [
        "import plotly.graph_objects as go\n",
        "fig = go.Figure([go.Scatter(x=resume_employed.index, y=resume_employed['Total'])])\n",
        "fig.update_layout(\n",
        "    title={\n",
        "        'text': \"Evolucion del empleo en el Ecuador 🇪🇨\",\n",
        "        'y':0.9,\n",
        "        'x':0.5,\n",
        "        'xanchor': 'center',\n",
        "        'yanchor': 'top'},\n",
        "        xaxis_title=\"Tiempo en años\",\n",
        "    yaxis_title=\"Cantidad de empleados\",)\n",
        "fig.show()"
      ],
      "execution_count": null,
      "outputs": [
        {
          "output_type": "display_data",
          "data": {
            "text/html": [
              "<html>\n",
              "<head><meta charset=\"utf-8\" /></head>\n",
              "<body>\n",
              "    <div>\n",
              "            <script src=\"https://cdnjs.cloudflare.com/ajax/libs/mathjax/2.7.5/MathJax.js?config=TeX-AMS-MML_SVG\"></script><script type=\"text/javascript\">if (window.MathJax) {MathJax.Hub.Config({SVG: {font: \"STIX-Web\"}});}</script>\n",
              "                <script type=\"text/javascript\">window.PlotlyConfig = {MathJaxConfig: 'local'};</script>\n",
              "        <script src=\"https://cdn.plot.ly/plotly-latest.min.js\"></script>    \n",
              "            <div id=\"a99017a8-3ba6-460f-8b1a-334d8b8e730a\" class=\"plotly-graph-div\" style=\"height:525px; width:100%;\"></div>\n",
              "            <script type=\"text/javascript\">\n",
              "                \n",
              "                    window.PLOTLYENV=window.PLOTLYENV || {};\n",
              "                    \n",
              "                if (document.getElementById(\"a99017a8-3ba6-460f-8b1a-334d8b8e730a\")) {\n",
              "                    Plotly.newPlot(\n",
              "                        'a99017a8-3ba6-460f-8b1a-334d8b8e730a',\n",
              "                        [{\"type\": \"scatter\", \"x\": [\"2007-12-01T00:00:00\", \"2008-12-01T00:00:00\", \"2009-12-01T00:00:00\", \"2010-12-01T00:00:00\", \"2011-12-01T00:00:00\", \"2012-12-01T00:00:00\", \"2013-12-01T00:00:00\", \"2014-12-01T00:00:00\", \"2015-12-01T00:00:00\", \"2016-12-01T00:00:00\", \"2017-12-01T00:00:00\", \"2018-12-01T00:00:00\", \"2019-12-01T00:00:00\", \"2020-12-01T00:00:00\"], \"y\": [13194534, 12968768, 13321885, 13115716, 13316126, 13453570, 14137751, 14767988, 15331918, 16491983, 17027264, 16785788, 17016776, 17223003]}],\n",
              "                        {\"template\": {\"data\": {\"bar\": [{\"error_x\": {\"color\": \"#2a3f5f\"}, \"error_y\": {\"color\": \"#2a3f5f\"}, \"marker\": {\"line\": {\"color\": \"#E5ECF6\", \"width\": 0.5}}, \"type\": \"bar\"}], \"barpolar\": [{\"marker\": {\"line\": {\"color\": \"#E5ECF6\", \"width\": 0.5}}, \"type\": \"barpolar\"}], \"carpet\": [{\"aaxis\": {\"endlinecolor\": \"#2a3f5f\", \"gridcolor\": \"white\", \"linecolor\": \"white\", \"minorgridcolor\": \"white\", \"startlinecolor\": \"#2a3f5f\"}, \"baxis\": {\"endlinecolor\": \"#2a3f5f\", \"gridcolor\": \"white\", \"linecolor\": \"white\", \"minorgridcolor\": \"white\", \"startlinecolor\": \"#2a3f5f\"}, \"type\": \"carpet\"}], \"choropleth\": [{\"colorbar\": {\"outlinewidth\": 0, \"ticks\": \"\"}, \"type\": \"choropleth\"}], \"contour\": [{\"colorbar\": {\"outlinewidth\": 0, \"ticks\": \"\"}, \"colorscale\": [[0.0, \"#0d0887\"], [0.1111111111111111, \"#46039f\"], [0.2222222222222222, \"#7201a8\"], [0.3333333333333333, \"#9c179e\"], [0.4444444444444444, \"#bd3786\"], [0.5555555555555556, \"#d8576b\"], [0.6666666666666666, \"#ed7953\"], [0.7777777777777778, \"#fb9f3a\"], [0.8888888888888888, \"#fdca26\"], [1.0, \"#f0f921\"]], \"type\": \"contour\"}], \"contourcarpet\": [{\"colorbar\": {\"outlinewidth\": 0, \"ticks\": \"\"}, \"type\": \"contourcarpet\"}], \"heatmap\": [{\"colorbar\": {\"outlinewidth\": 0, \"ticks\": \"\"}, \"colorscale\": [[0.0, \"#0d0887\"], [0.1111111111111111, \"#46039f\"], [0.2222222222222222, \"#7201a8\"], [0.3333333333333333, \"#9c179e\"], [0.4444444444444444, \"#bd3786\"], [0.5555555555555556, \"#d8576b\"], [0.6666666666666666, \"#ed7953\"], [0.7777777777777778, \"#fb9f3a\"], [0.8888888888888888, \"#fdca26\"], [1.0, \"#f0f921\"]], \"type\": \"heatmap\"}], \"heatmapgl\": [{\"colorbar\": {\"outlinewidth\": 0, \"ticks\": \"\"}, \"colorscale\": [[0.0, \"#0d0887\"], [0.1111111111111111, \"#46039f\"], [0.2222222222222222, \"#7201a8\"], [0.3333333333333333, \"#9c179e\"], [0.4444444444444444, \"#bd3786\"], [0.5555555555555556, \"#d8576b\"], [0.6666666666666666, \"#ed7953\"], [0.7777777777777778, \"#fb9f3a\"], [0.8888888888888888, \"#fdca26\"], [1.0, \"#f0f921\"]], \"type\": \"heatmapgl\"}], \"histogram\": [{\"marker\": {\"colorbar\": {\"outlinewidth\": 0, \"ticks\": \"\"}}, \"type\": \"histogram\"}], \"histogram2d\": [{\"colorbar\": {\"outlinewidth\": 0, \"ticks\": \"\"}, \"colorscale\": [[0.0, \"#0d0887\"], [0.1111111111111111, \"#46039f\"], [0.2222222222222222, \"#7201a8\"], [0.3333333333333333, \"#9c179e\"], [0.4444444444444444, \"#bd3786\"], [0.5555555555555556, \"#d8576b\"], [0.6666666666666666, \"#ed7953\"], [0.7777777777777778, \"#fb9f3a\"], [0.8888888888888888, \"#fdca26\"], [1.0, \"#f0f921\"]], \"type\": \"histogram2d\"}], \"histogram2dcontour\": [{\"colorbar\": {\"outlinewidth\": 0, \"ticks\": \"\"}, \"colorscale\": [[0.0, \"#0d0887\"], [0.1111111111111111, \"#46039f\"], [0.2222222222222222, \"#7201a8\"], [0.3333333333333333, \"#9c179e\"], [0.4444444444444444, \"#bd3786\"], [0.5555555555555556, \"#d8576b\"], [0.6666666666666666, \"#ed7953\"], [0.7777777777777778, \"#fb9f3a\"], [0.8888888888888888, \"#fdca26\"], [1.0, \"#f0f921\"]], \"type\": \"histogram2dcontour\"}], \"mesh3d\": [{\"colorbar\": {\"outlinewidth\": 0, \"ticks\": \"\"}, \"type\": \"mesh3d\"}], \"parcoords\": [{\"line\": {\"colorbar\": {\"outlinewidth\": 0, \"ticks\": \"\"}}, \"type\": \"parcoords\"}], \"pie\": [{\"automargin\": true, \"type\": \"pie\"}], \"scatter\": [{\"marker\": {\"colorbar\": {\"outlinewidth\": 0, \"ticks\": \"\"}}, \"type\": \"scatter\"}], \"scatter3d\": [{\"line\": {\"colorbar\": {\"outlinewidth\": 0, \"ticks\": \"\"}}, \"marker\": {\"colorbar\": {\"outlinewidth\": 0, \"ticks\": \"\"}}, \"type\": \"scatter3d\"}], \"scattercarpet\": [{\"marker\": {\"colorbar\": {\"outlinewidth\": 0, \"ticks\": \"\"}}, \"type\": \"scattercarpet\"}], \"scattergeo\": [{\"marker\": {\"colorbar\": {\"outlinewidth\": 0, \"ticks\": \"\"}}, \"type\": \"scattergeo\"}], \"scattergl\": [{\"marker\": {\"colorbar\": {\"outlinewidth\": 0, \"ticks\": \"\"}}, \"type\": \"scattergl\"}], \"scattermapbox\": [{\"marker\": {\"colorbar\": {\"outlinewidth\": 0, \"ticks\": \"\"}}, \"type\": \"scattermapbox\"}], \"scatterpolar\": [{\"marker\": {\"colorbar\": {\"outlinewidth\": 0, \"ticks\": \"\"}}, \"type\": \"scatterpolar\"}], \"scatterpolargl\": [{\"marker\": {\"colorbar\": {\"outlinewidth\": 0, \"ticks\": \"\"}}, \"type\": \"scatterpolargl\"}], \"scatterternary\": [{\"marker\": {\"colorbar\": {\"outlinewidth\": 0, \"ticks\": \"\"}}, \"type\": \"scatterternary\"}], \"surface\": [{\"colorbar\": {\"outlinewidth\": 0, \"ticks\": \"\"}, \"colorscale\": [[0.0, \"#0d0887\"], [0.1111111111111111, \"#46039f\"], [0.2222222222222222, \"#7201a8\"], [0.3333333333333333, \"#9c179e\"], [0.4444444444444444, \"#bd3786\"], [0.5555555555555556, \"#d8576b\"], [0.6666666666666666, \"#ed7953\"], [0.7777777777777778, \"#fb9f3a\"], [0.8888888888888888, \"#fdca26\"], [1.0, \"#f0f921\"]], \"type\": \"surface\"}], \"table\": [{\"cells\": {\"fill\": {\"color\": \"#EBF0F8\"}, \"line\": {\"color\": \"white\"}}, \"header\": {\"fill\": {\"color\": \"#C8D4E3\"}, \"line\": {\"color\": \"white\"}}, \"type\": \"table\"}]}, \"layout\": {\"annotationdefaults\": {\"arrowcolor\": \"#2a3f5f\", \"arrowhead\": 0, \"arrowwidth\": 1}, \"coloraxis\": {\"colorbar\": {\"outlinewidth\": 0, \"ticks\": \"\"}}, \"colorscale\": {\"diverging\": [[0, \"#8e0152\"], [0.1, \"#c51b7d\"], [0.2, \"#de77ae\"], [0.3, \"#f1b6da\"], [0.4, \"#fde0ef\"], [0.5, \"#f7f7f7\"], [0.6, \"#e6f5d0\"], [0.7, \"#b8e186\"], [0.8, \"#7fbc41\"], [0.9, \"#4d9221\"], [1, \"#276419\"]], \"sequential\": [[0.0, \"#0d0887\"], [0.1111111111111111, \"#46039f\"], [0.2222222222222222, \"#7201a8\"], [0.3333333333333333, \"#9c179e\"], [0.4444444444444444, \"#bd3786\"], [0.5555555555555556, \"#d8576b\"], [0.6666666666666666, \"#ed7953\"], [0.7777777777777778, \"#fb9f3a\"], [0.8888888888888888, \"#fdca26\"], [1.0, \"#f0f921\"]], \"sequentialminus\": [[0.0, \"#0d0887\"], [0.1111111111111111, \"#46039f\"], [0.2222222222222222, \"#7201a8\"], [0.3333333333333333, \"#9c179e\"], [0.4444444444444444, \"#bd3786\"], [0.5555555555555556, \"#d8576b\"], [0.6666666666666666, \"#ed7953\"], [0.7777777777777778, \"#fb9f3a\"], [0.8888888888888888, \"#fdca26\"], [1.0, \"#f0f921\"]]}, \"colorway\": [\"#636efa\", \"#EF553B\", \"#00cc96\", \"#ab63fa\", \"#FFA15A\", \"#19d3f3\", \"#FF6692\", \"#B6E880\", \"#FF97FF\", \"#FECB52\"], \"font\": {\"color\": \"#2a3f5f\"}, \"geo\": {\"bgcolor\": \"white\", \"lakecolor\": \"white\", \"landcolor\": \"#E5ECF6\", \"showlakes\": true, \"showland\": true, \"subunitcolor\": \"white\"}, \"hoverlabel\": {\"align\": \"left\"}, \"hovermode\": \"closest\", \"mapbox\": {\"style\": \"light\"}, \"paper_bgcolor\": \"white\", \"plot_bgcolor\": \"#E5ECF6\", \"polar\": {\"angularaxis\": {\"gridcolor\": \"white\", \"linecolor\": \"white\", \"ticks\": \"\"}, \"bgcolor\": \"#E5ECF6\", \"radialaxis\": {\"gridcolor\": \"white\", \"linecolor\": \"white\", \"ticks\": \"\"}}, \"scene\": {\"xaxis\": {\"backgroundcolor\": \"#E5ECF6\", \"gridcolor\": \"white\", \"gridwidth\": 2, \"linecolor\": \"white\", \"showbackground\": true, \"ticks\": \"\", \"zerolinecolor\": \"white\"}, \"yaxis\": {\"backgroundcolor\": \"#E5ECF6\", \"gridcolor\": \"white\", \"gridwidth\": 2, \"linecolor\": \"white\", \"showbackground\": true, \"ticks\": \"\", \"zerolinecolor\": \"white\"}, \"zaxis\": {\"backgroundcolor\": \"#E5ECF6\", \"gridcolor\": \"white\", \"gridwidth\": 2, \"linecolor\": \"white\", \"showbackground\": true, \"ticks\": \"\", \"zerolinecolor\": \"white\"}}, \"shapedefaults\": {\"line\": {\"color\": \"#2a3f5f\"}}, \"ternary\": {\"aaxis\": {\"gridcolor\": \"white\", \"linecolor\": \"white\", \"ticks\": \"\"}, \"baxis\": {\"gridcolor\": \"white\", \"linecolor\": \"white\", \"ticks\": \"\"}, \"bgcolor\": \"#E5ECF6\", \"caxis\": {\"gridcolor\": \"white\", \"linecolor\": \"white\", \"ticks\": \"\"}}, \"title\": {\"x\": 0.05}, \"xaxis\": {\"automargin\": true, \"gridcolor\": \"white\", \"linecolor\": \"white\", \"ticks\": \"\", \"title\": {\"standoff\": 15}, \"zerolinecolor\": \"white\", \"zerolinewidth\": 2}, \"yaxis\": {\"automargin\": true, \"gridcolor\": \"white\", \"linecolor\": \"white\", \"ticks\": \"\", \"title\": {\"standoff\": 15}, \"zerolinecolor\": \"white\", \"zerolinewidth\": 2}}}, \"title\": {\"text\": \"Evolucion del empleo en el Ecuador \\ud83c\\uddea\\ud83c\\udde8\", \"x\": 0.5, \"xanchor\": \"center\", \"y\": 0.9, \"yanchor\": \"top\"}, \"xaxis\": {\"title\": {\"text\": \"Tiempo en a\\u00f1os\"}}, \"yaxis\": {\"title\": {\"text\": \"Cantidad de empleados\"}}},\n",
              "                        {\"responsive\": true}\n",
              "                    ).then(function(){\n",
              "                            \n",
              "var gd = document.getElementById('a99017a8-3ba6-460f-8b1a-334d8b8e730a');\n",
              "var x = new MutationObserver(function (mutations, observer) {{\n",
              "        var display = window.getComputedStyle(gd).display;\n",
              "        if (!display || display === 'none') {{\n",
              "            console.log([gd, 'removed!']);\n",
              "            Plotly.purge(gd);\n",
              "            observer.disconnect();\n",
              "        }}\n",
              "}});\n",
              "\n",
              "// Listen for the removal of the full notebook cells\n",
              "var notebookContainer = gd.closest('#notebook-container');\n",
              "if (notebookContainer) {{\n",
              "    x.observe(notebookContainer, {childList: true});\n",
              "}}\n",
              "\n",
              "// Listen for the clearing of the current output cell\n",
              "var outputEl = gd.closest('.output');\n",
              "if (outputEl) {{\n",
              "    x.observe(outputEl, {childList: true});\n",
              "}}\n",
              "\n",
              "                        })\n",
              "                };\n",
              "                \n",
              "            </script>\n",
              "        </div>\n",
              "</body>\n",
              "</html>"
            ]
          },
          "metadata": {}
        }
      ]
    },
    {
      "cell_type": "markdown",
      "metadata": {
        "id": "Mc0eTM4arqVn"
      },
      "source": [
        "Obtenemos la grafica del desempleo en el Ecuador a traves del tiempo "
      ]
    },
    {
      "cell_type": "code",
      "metadata": {
        "colab": {
          "base_uri": "https://localhost:8080/",
          "height": 542
        },
        "id": "z20MnsvkGbPO",
        "outputId": "5d216ae7-1ea4-413b-8213-d16405b42625"
      },
      "source": [
        "fig = go.Figure([go.Scatter(x=resume_unemployed.index, y=resume_unemployed['Total'])])\n",
        "fig.update_layout(\n",
        "    title={\n",
        "        'text': \"Evolucion del desempleo en el Ecuador 🇪🇨\",\n",
        "        'y':0.9,\n",
        "        'x':0.5,\n",
        "        'xanchor': 'center',\n",
        "        'yanchor': 'top'},\n",
        "        xaxis_title=\"Tiempo en años\",\n",
        "    yaxis_title=\"Cantidad de desempleados\",)\n",
        "fig.show()"
      ],
      "execution_count": null,
      "outputs": [
        {
          "output_type": "display_data",
          "data": {
            "text/html": [
              "<html>\n",
              "<head><meta charset=\"utf-8\" /></head>\n",
              "<body>\n",
              "    <div>\n",
              "            <script src=\"https://cdnjs.cloudflare.com/ajax/libs/mathjax/2.7.5/MathJax.js?config=TeX-AMS-MML_SVG\"></script><script type=\"text/javascript\">if (window.MathJax) {MathJax.Hub.Config({SVG: {font: \"STIX-Web\"}});}</script>\n",
              "                <script type=\"text/javascript\">window.PlotlyConfig = {MathJaxConfig: 'local'};</script>\n",
              "        <script src=\"https://cdn.plot.ly/plotly-latest.min.js\"></script>    \n",
              "            <div id=\"b1cb2455-d6e6-44d3-b023-a34b6b1ddb04\" class=\"plotly-graph-div\" style=\"height:525px; width:100%;\"></div>\n",
              "            <script type=\"text/javascript\">\n",
              "                \n",
              "                    window.PLOTLYENV=window.PLOTLYENV || {};\n",
              "                    \n",
              "                if (document.getElementById(\"b1cb2455-d6e6-44d3-b023-a34b6b1ddb04\")) {\n",
              "                    Plotly.newPlot(\n",
              "                        'b1cb2455-d6e6-44d3-b023-a34b6b1ddb04',\n",
              "                        [{\"type\": \"scatter\", \"x\": [\"2007-12-01T00:00:00\", \"2008-12-01T00:00:00\", \"2009-12-01T00:00:00\", \"2010-12-01T00:00:00\", \"2011-12-01T00:00:00\", \"2012-12-01T00:00:00\", \"2013-12-01T00:00:00\", \"2014-12-01T00:00:00\", \"2015-12-01T00:00:00\", \"2016-12-01T00:00:00\", \"2017-12-01T00:00:00\", \"2018-12-01T00:00:00\", \"2019-12-01T00:00:00\", \"2020-12-01T00:00:00\"], \"y\": [950091, 1140078, 1271406, 969081, 830361, 828522, 866235, 820241, 1073676, 1231325, 1121612, 888292, 933401, 1189512]}],\n",
              "                        {\"template\": {\"data\": {\"bar\": [{\"error_x\": {\"color\": \"#2a3f5f\"}, \"error_y\": {\"color\": \"#2a3f5f\"}, \"marker\": {\"line\": {\"color\": \"#E5ECF6\", \"width\": 0.5}}, \"type\": \"bar\"}], \"barpolar\": [{\"marker\": {\"line\": {\"color\": \"#E5ECF6\", \"width\": 0.5}}, \"type\": \"barpolar\"}], \"carpet\": [{\"aaxis\": {\"endlinecolor\": \"#2a3f5f\", \"gridcolor\": \"white\", \"linecolor\": \"white\", \"minorgridcolor\": \"white\", \"startlinecolor\": \"#2a3f5f\"}, \"baxis\": {\"endlinecolor\": \"#2a3f5f\", \"gridcolor\": \"white\", \"linecolor\": \"white\", \"minorgridcolor\": \"white\", \"startlinecolor\": \"#2a3f5f\"}, \"type\": \"carpet\"}], \"choropleth\": [{\"colorbar\": {\"outlinewidth\": 0, \"ticks\": \"\"}, \"type\": \"choropleth\"}], \"contour\": [{\"colorbar\": {\"outlinewidth\": 0, \"ticks\": \"\"}, \"colorscale\": [[0.0, \"#0d0887\"], [0.1111111111111111, \"#46039f\"], [0.2222222222222222, \"#7201a8\"], [0.3333333333333333, \"#9c179e\"], [0.4444444444444444, \"#bd3786\"], [0.5555555555555556, \"#d8576b\"], [0.6666666666666666, \"#ed7953\"], [0.7777777777777778, \"#fb9f3a\"], [0.8888888888888888, \"#fdca26\"], [1.0, \"#f0f921\"]], \"type\": \"contour\"}], \"contourcarpet\": [{\"colorbar\": {\"outlinewidth\": 0, \"ticks\": \"\"}, \"type\": \"contourcarpet\"}], \"heatmap\": [{\"colorbar\": {\"outlinewidth\": 0, \"ticks\": \"\"}, \"colorscale\": [[0.0, \"#0d0887\"], [0.1111111111111111, \"#46039f\"], [0.2222222222222222, \"#7201a8\"], [0.3333333333333333, \"#9c179e\"], [0.4444444444444444, \"#bd3786\"], [0.5555555555555556, \"#d8576b\"], [0.6666666666666666, \"#ed7953\"], [0.7777777777777778, \"#fb9f3a\"], [0.8888888888888888, \"#fdca26\"], [1.0, \"#f0f921\"]], \"type\": \"heatmap\"}], \"heatmapgl\": [{\"colorbar\": {\"outlinewidth\": 0, \"ticks\": \"\"}, \"colorscale\": [[0.0, \"#0d0887\"], [0.1111111111111111, \"#46039f\"], [0.2222222222222222, \"#7201a8\"], [0.3333333333333333, \"#9c179e\"], [0.4444444444444444, \"#bd3786\"], [0.5555555555555556, \"#d8576b\"], [0.6666666666666666, \"#ed7953\"], [0.7777777777777778, \"#fb9f3a\"], [0.8888888888888888, \"#fdca26\"], [1.0, \"#f0f921\"]], \"type\": \"heatmapgl\"}], \"histogram\": [{\"marker\": {\"colorbar\": {\"outlinewidth\": 0, \"ticks\": \"\"}}, \"type\": \"histogram\"}], \"histogram2d\": [{\"colorbar\": {\"outlinewidth\": 0, \"ticks\": \"\"}, \"colorscale\": [[0.0, \"#0d0887\"], [0.1111111111111111, \"#46039f\"], [0.2222222222222222, \"#7201a8\"], [0.3333333333333333, \"#9c179e\"], [0.4444444444444444, \"#bd3786\"], [0.5555555555555556, \"#d8576b\"], [0.6666666666666666, \"#ed7953\"], [0.7777777777777778, \"#fb9f3a\"], [0.8888888888888888, \"#fdca26\"], [1.0, \"#f0f921\"]], \"type\": \"histogram2d\"}], \"histogram2dcontour\": [{\"colorbar\": {\"outlinewidth\": 0, \"ticks\": \"\"}, \"colorscale\": [[0.0, \"#0d0887\"], [0.1111111111111111, \"#46039f\"], [0.2222222222222222, \"#7201a8\"], [0.3333333333333333, \"#9c179e\"], [0.4444444444444444, \"#bd3786\"], [0.5555555555555556, \"#d8576b\"], [0.6666666666666666, \"#ed7953\"], [0.7777777777777778, \"#fb9f3a\"], [0.8888888888888888, \"#fdca26\"], [1.0, \"#f0f921\"]], \"type\": \"histogram2dcontour\"}], \"mesh3d\": [{\"colorbar\": {\"outlinewidth\": 0, \"ticks\": \"\"}, \"type\": \"mesh3d\"}], \"parcoords\": [{\"line\": {\"colorbar\": {\"outlinewidth\": 0, \"ticks\": \"\"}}, \"type\": \"parcoords\"}], \"pie\": [{\"automargin\": true, \"type\": \"pie\"}], \"scatter\": [{\"marker\": {\"colorbar\": {\"outlinewidth\": 0, \"ticks\": \"\"}}, \"type\": \"scatter\"}], \"scatter3d\": [{\"line\": {\"colorbar\": {\"outlinewidth\": 0, \"ticks\": \"\"}}, \"marker\": {\"colorbar\": {\"outlinewidth\": 0, \"ticks\": \"\"}}, \"type\": \"scatter3d\"}], \"scattercarpet\": [{\"marker\": {\"colorbar\": {\"outlinewidth\": 0, \"ticks\": \"\"}}, \"type\": \"scattercarpet\"}], \"scattergeo\": [{\"marker\": {\"colorbar\": {\"outlinewidth\": 0, \"ticks\": \"\"}}, \"type\": \"scattergeo\"}], \"scattergl\": [{\"marker\": {\"colorbar\": {\"outlinewidth\": 0, \"ticks\": \"\"}}, \"type\": \"scattergl\"}], \"scattermapbox\": [{\"marker\": {\"colorbar\": {\"outlinewidth\": 0, \"ticks\": \"\"}}, \"type\": \"scattermapbox\"}], \"scatterpolar\": [{\"marker\": {\"colorbar\": {\"outlinewidth\": 0, \"ticks\": \"\"}}, \"type\": \"scatterpolar\"}], \"scatterpolargl\": [{\"marker\": {\"colorbar\": {\"outlinewidth\": 0, \"ticks\": \"\"}}, \"type\": \"scatterpolargl\"}], \"scatterternary\": [{\"marker\": {\"colorbar\": {\"outlinewidth\": 0, \"ticks\": \"\"}}, \"type\": \"scatterternary\"}], \"surface\": [{\"colorbar\": {\"outlinewidth\": 0, \"ticks\": \"\"}, \"colorscale\": [[0.0, \"#0d0887\"], [0.1111111111111111, \"#46039f\"], [0.2222222222222222, \"#7201a8\"], [0.3333333333333333, \"#9c179e\"], [0.4444444444444444, \"#bd3786\"], [0.5555555555555556, \"#d8576b\"], [0.6666666666666666, \"#ed7953\"], [0.7777777777777778, \"#fb9f3a\"], [0.8888888888888888, \"#fdca26\"], [1.0, \"#f0f921\"]], \"type\": \"surface\"}], \"table\": [{\"cells\": {\"fill\": {\"color\": \"#EBF0F8\"}, \"line\": {\"color\": \"white\"}}, \"header\": {\"fill\": {\"color\": \"#C8D4E3\"}, \"line\": {\"color\": \"white\"}}, \"type\": \"table\"}]}, \"layout\": {\"annotationdefaults\": {\"arrowcolor\": \"#2a3f5f\", \"arrowhead\": 0, \"arrowwidth\": 1}, \"coloraxis\": {\"colorbar\": {\"outlinewidth\": 0, \"ticks\": \"\"}}, \"colorscale\": {\"diverging\": [[0, \"#8e0152\"], [0.1, \"#c51b7d\"], [0.2, \"#de77ae\"], [0.3, \"#f1b6da\"], [0.4, \"#fde0ef\"], [0.5, \"#f7f7f7\"], [0.6, \"#e6f5d0\"], [0.7, \"#b8e186\"], [0.8, \"#7fbc41\"], [0.9, \"#4d9221\"], [1, \"#276419\"]], \"sequential\": [[0.0, \"#0d0887\"], [0.1111111111111111, \"#46039f\"], [0.2222222222222222, \"#7201a8\"], [0.3333333333333333, \"#9c179e\"], [0.4444444444444444, \"#bd3786\"], [0.5555555555555556, \"#d8576b\"], [0.6666666666666666, \"#ed7953\"], [0.7777777777777778, \"#fb9f3a\"], [0.8888888888888888, \"#fdca26\"], [1.0, \"#f0f921\"]], \"sequentialminus\": [[0.0, \"#0d0887\"], [0.1111111111111111, \"#46039f\"], [0.2222222222222222, \"#7201a8\"], [0.3333333333333333, \"#9c179e\"], [0.4444444444444444, \"#bd3786\"], [0.5555555555555556, \"#d8576b\"], [0.6666666666666666, \"#ed7953\"], [0.7777777777777778, \"#fb9f3a\"], [0.8888888888888888, \"#fdca26\"], [1.0, \"#f0f921\"]]}, \"colorway\": [\"#636efa\", \"#EF553B\", \"#00cc96\", \"#ab63fa\", \"#FFA15A\", \"#19d3f3\", \"#FF6692\", \"#B6E880\", \"#FF97FF\", \"#FECB52\"], \"font\": {\"color\": \"#2a3f5f\"}, \"geo\": {\"bgcolor\": \"white\", \"lakecolor\": \"white\", \"landcolor\": \"#E5ECF6\", \"showlakes\": true, \"showland\": true, \"subunitcolor\": \"white\"}, \"hoverlabel\": {\"align\": \"left\"}, \"hovermode\": \"closest\", \"mapbox\": {\"style\": \"light\"}, \"paper_bgcolor\": \"white\", \"plot_bgcolor\": \"#E5ECF6\", \"polar\": {\"angularaxis\": {\"gridcolor\": \"white\", \"linecolor\": \"white\", \"ticks\": \"\"}, \"bgcolor\": \"#E5ECF6\", \"radialaxis\": {\"gridcolor\": \"white\", \"linecolor\": \"white\", \"ticks\": \"\"}}, \"scene\": {\"xaxis\": {\"backgroundcolor\": \"#E5ECF6\", \"gridcolor\": \"white\", \"gridwidth\": 2, \"linecolor\": \"white\", \"showbackground\": true, \"ticks\": \"\", \"zerolinecolor\": \"white\"}, \"yaxis\": {\"backgroundcolor\": \"#E5ECF6\", \"gridcolor\": \"white\", \"gridwidth\": 2, \"linecolor\": \"white\", \"showbackground\": true, \"ticks\": \"\", \"zerolinecolor\": \"white\"}, \"zaxis\": {\"backgroundcolor\": \"#E5ECF6\", \"gridcolor\": \"white\", \"gridwidth\": 2, \"linecolor\": \"white\", \"showbackground\": true, \"ticks\": \"\", \"zerolinecolor\": \"white\"}}, \"shapedefaults\": {\"line\": {\"color\": \"#2a3f5f\"}}, \"ternary\": {\"aaxis\": {\"gridcolor\": \"white\", \"linecolor\": \"white\", \"ticks\": \"\"}, \"baxis\": {\"gridcolor\": \"white\", \"linecolor\": \"white\", \"ticks\": \"\"}, \"bgcolor\": \"#E5ECF6\", \"caxis\": {\"gridcolor\": \"white\", \"linecolor\": \"white\", \"ticks\": \"\"}}, \"title\": {\"x\": 0.05}, \"xaxis\": {\"automargin\": true, \"gridcolor\": \"white\", \"linecolor\": \"white\", \"ticks\": \"\", \"title\": {\"standoff\": 15}, \"zerolinecolor\": \"white\", \"zerolinewidth\": 2}, \"yaxis\": {\"automargin\": true, \"gridcolor\": \"white\", \"linecolor\": \"white\", \"ticks\": \"\", \"title\": {\"standoff\": 15}, \"zerolinecolor\": \"white\", \"zerolinewidth\": 2}}}, \"title\": {\"text\": \"Evolucion del desempleo en el Ecuador \\ud83c\\uddea\\ud83c\\udde8\", \"x\": 0.5, \"xanchor\": \"center\", \"y\": 0.9, \"yanchor\": \"top\"}, \"xaxis\": {\"title\": {\"text\": \"Tiempo en a\\u00f1os\"}}, \"yaxis\": {\"title\": {\"text\": \"Cantidad de desempleados\"}}},\n",
              "                        {\"responsive\": true}\n",
              "                    ).then(function(){\n",
              "                            \n",
              "var gd = document.getElementById('b1cb2455-d6e6-44d3-b023-a34b6b1ddb04');\n",
              "var x = new MutationObserver(function (mutations, observer) {{\n",
              "        var display = window.getComputedStyle(gd).display;\n",
              "        if (!display || display === 'none') {{\n",
              "            console.log([gd, 'removed!']);\n",
              "            Plotly.purge(gd);\n",
              "            observer.disconnect();\n",
              "        }}\n",
              "}});\n",
              "\n",
              "// Listen for the removal of the full notebook cells\n",
              "var notebookContainer = gd.closest('#notebook-container');\n",
              "if (notebookContainer) {{\n",
              "    x.observe(notebookContainer, {childList: true});\n",
              "}}\n",
              "\n",
              "// Listen for the clearing of the current output cell\n",
              "var outputEl = gd.closest('.output');\n",
              "if (outputEl) {{\n",
              "    x.observe(outputEl, {childList: true});\n",
              "}}\n",
              "\n",
              "                        })\n",
              "                };\n",
              "                \n",
              "            </script>\n",
              "        </div>\n",
              "</body>\n",
              "</html>"
            ]
          },
          "metadata": {}
        }
      ]
    },
    {
      "cell_type": "markdown",
      "metadata": {
        "id": "IQH82Ucom6Rd"
      },
      "source": [
        "Generar grafico de pie por personas basadas en la sectorizacion de empleo"
      ]
    },
    {
      "cell_type": "code",
      "metadata": {
        "id": "XANqq3hVnJ0k"
      },
      "source": [
        "columnas=[sectorizacion_df.iloc[0]]\n",
        "nacional_df=sectorizacion_df.iloc[1:5]\n",
        "urbano_df=sectorizacion_df.iloc[5:9] \n",
        "rural_df=sectorizacion_df.iloc[9:]\n",
        "nacional_df.columns=columnas\n",
        "urbano_df.columns=columnas\n",
        "rural_df.columns=columnas"
      ],
      "execution_count": 195,
      "outputs": []
    },
    {
      "cell_type": "code",
      "metadata": {
        "id": "oHyBGNnTb9eD"
      },
      "source": [
        "#Eliminamos los datos dentro de las fechas que no tienen observaciones\n",
        "nacional_df=nacional_df.drop(columns=nacional_df.columns[(nacional_df == '-').any()])\n",
        "urbano_df=urbano_df.drop(columns=urbano_df.columns[(urbano_df == '-').any()])\n",
        "rural_df=urbano_df.drop(columns=rural_df.columns[(rural_df == '-').any()])"
      ],
      "execution_count": 250,
      "outputs": []
    },
    {
      "cell_type": "code",
      "metadata": {
        "id": "SLL0ocygYgYb"
      },
      "source": [
        "nacional_df=nacional_df.replace('\\,','.',regex=True)\n",
        "urbano_df=urbano_df.replace('\\,','.',regex=True)\n",
        "rural_df=rural_df.replace('\\,','.',regex=True)"
      ],
      "execution_count": 251,
      "outputs": []
    },
    {
      "cell_type": "code",
      "metadata": {
        "id": "VF3Qc8-AWL5b"
      },
      "source": [
        "nacional_df.iloc[:,2:] = nacional_df.iloc[:,2:].astype(float)\n",
        "urbano_df.iloc[:,2:] = urbano_df.iloc[:,2:].astype(float)\n",
        "rural_df.iloc[:,2:] = rural_df.iloc[:,2:].astype(float)"
      ],
      "execution_count": 297,
      "outputs": []
    },
    {
      "cell_type": "code",
      "metadata": {
        "id": "4g94MMvnR6p4",
        "colab": {
          "base_uri": "https://localhost:8080/",
          "height": 248
        },
        "outputId": "9366b2bd-8c87-4a61-f615-915ab3555d4f"
      },
      "source": [
        "import matplotlib.pyplot as plt\n",
        "import seaborn as sns\n",
        "\n",
        "#define data\n",
        "data = nacional_df.iloc[:,3]\n",
        "labels = nacional_df.iloc[:,1]\n",
        "\n",
        "#define Seaborn color palette to use\n",
        "colors = sns.color_palette('pastel')[0:5]\n",
        "\n",
        "#create pie chart\n",
        "plt.pie(data, labels = labels, colors = colors, autopct='%.0f%%')\n",
        "plt.show()"
      ],
      "execution_count": 233,
      "outputs": [
        {
          "output_type": "display_data",
          "data": {
            "image/png": "[encoded data removed]",
            "text/plain": [
              "<Figure size 432x288 with 1 Axes>"
            ]
          },
          "metadata": {}
        }
      ]
    },
    {
      "cell_type": "code",
      "metadata": {
        "colab": {
          "base_uri": "https://localhost:8080/",
          "height": 460
        },
        "id": "8Uxlny5v_KHF",
        "outputId": "a9721f98-ecb6-42fe-ceef-d99f23cb2ce0"
      },
      "source": [
        "#define data\n",
        "data = urbano_df.iloc[:,3]\n",
        "labels = urbano_df.iloc[:,1]\n",
        "\n",
        "#define Seaborn color palette to use\n",
        "colors = sns.color_palette('pastel')[0:5]\n",
        "\n",
        "#create pie chart\n",
        "plt.pie(data, labels = labels, colors = colors, autopct='%.0f%%')\n",
        "plt.show()"
      ],
      "execution_count": 298,
      "outputs": [
        {
          "output_type": "display_data",
          "data": {
            "image/png": "[encoded data removed]",
            "text/plain": [
              "<Figure size 800x550 with 1 Axes>"
            ]
          },
          "metadata": {}
        }
      ]
    },
    {
      "cell_type": "code",
      "metadata": {
        "colab": {
          "base_uri": "https://localhost:8080/",
          "height": 460
        },
        "id": "d_t3zr3F_QiI",
        "outputId": "b4a8e0e4-e9b4-4f9c-847e-a579e55d1252"
      },
      "source": [
        "#define data\n",
        "data = rural_df.iloc[:,3]\n",
        "labels = rural_df.iloc[:,1]\n",
        "\n",
        "#define Seaborn color palette to use\n",
        "colors = sns.color_palette('pastel')[0:5]\n",
        "\n",
        "#create pie chart\n",
        "plt.pie(data, labels = labels, colors = colors, autopct='%.0f%%')\n",
        "plt.show()"
      ],
      "execution_count": 299,
      "outputs": [
        {
          "output_type": "display_data",
          "data": {
            "image/png": "[encoded data removed]",
            "text/plain": [
              "<Figure size 800x550 with 1 Axes>"
            ]
          },
          "metadata": {}
        }
      ]
    },
    {
      "cell_type": "markdown",
      "metadata": {
        "id": "IjZ--TmzdYJ8"
      },
      "source": [
        "# Generar histogramas de subempleo, empleo pleno y empleo no pleno por anio*"
      ]
    },
    {
      "cell_type": "code",
      "metadata": {
        "id": "uvCrL27Yd_kG"
      },
      "source": [
        "cat_empleo_selected=['Subempleo','Empleo Adecuado/Pleno','Otro Empleo no pleno']\n",
        "empleados_category=poblacion.loc[poblacion['Indicadores'].isin(cat_empleo_selected)]\n",
        "empleados_category=pd.DataFrame(empleados_category)"
      ],
      "execution_count": null,
      "outputs": []
    },
    {
      "cell_type": "code",
      "metadata": {
        "id": "9Fy7wzkgfN7C"
      },
      "source": [
        "empleados_category=empleados_category.set_index('Periodo')\n",
        "resume_empleados=empleados_category[empleados_category.index.month == 12]\n"
      ],
      "execution_count": null,
      "outputs": []
    },
    {
      "cell_type": "code",
      "metadata": {
        "id": "X9d5mqUKfBw4"
      },
      "source": [
        "resume_empleados=resume_empleados.groupby(resume_empleados.index)['Total'].sum()\n",
        "resume_empleados=pd.DataFrame(resume_empleados)"
      ],
      "execution_count": null,
      "outputs": []
    },
    {
      "cell_type": "code",
      "metadata": {
        "colab": {
          "base_uri": "https://localhost:8080/",
          "height": 542
        },
        "id": "jt-FdasyW5tG",
        "outputId": "035ab6be-6bb1-455d-c850-855bc8096399"
      },
      "source": [
        "#Parametrizacion de las fechas \n",
        "resume_empleados=resume_empleados.loc['2009-01-01':'2021-12-31']\n",
        "fig = go.Figure([go.Scatter(x=resume_empleados.index, y=resume_empleados['Total'])])\n",
        "fig.update_layout(\n",
        "    title={\n",
        "        'text': \"Evolucion del desempleo en el Ecuador 🇪🇨\",\n",
        "        'y':0.9,\n",
        "        'x':0.5,\n",
        "        'xanchor': 'center',\n",
        "        'yanchor': 'top'},\n",
        "        xaxis_title=\"Tiempo en años\",\n",
        "    yaxis_title=\"Cantidad de desempleados\",)\n",
        "fig.show()\n",
        "\n",
        "\n",
        "\n"
      ],
      "execution_count": 302,
      "outputs": [
        {
          "output_type": "display_data",
          "data": {
            "text/html": [
              "<html>\n",
              "<head><meta charset=\"utf-8\" /></head>\n",
              "<body>\n",
              "    <div>\n",
              "            <script src=\"https://cdnjs.cloudflare.com/ajax/libs/mathjax/2.7.5/MathJax.js?config=TeX-AMS-MML_SVG\"></script><script type=\"text/javascript\">if (window.MathJax) {MathJax.Hub.Config({SVG: {font: \"STIX-Web\"}});}</script>\n",
              "                <script type=\"text/javascript\">window.PlotlyConfig = {MathJaxConfig: 'local'};</script>\n",
              "        <script src=\"https://cdn.plot.ly/plotly-latest.min.js\"></script>    \n",
              "            <div id=\"f535abfd-009e-46c2-a0cf-1ff55f4734f5\" class=\"plotly-graph-div\" style=\"height:525px; width:100%;\"></div>\n",
              "            <script type=\"text/javascript\">\n",
              "                \n",
              "                    window.PLOTLYENV=window.PLOTLYENV || {};\n",
              "                    \n",
              "                if (document.getElementById(\"f535abfd-009e-46c2-a0cf-1ff55f4734f5\")) {\n",
              "                    Plotly.newPlot(\n",
              "                        'f535abfd-009e-46c2-a0cf-1ff55f4734f5',\n",
              "                        [{\"type\": \"scatter\", \"x\": [\"2009-12-01T00:00:00\", \"2010-12-01T00:00:00\", \"2011-12-01T00:00:00\", \"2012-12-01T00:00:00\", \"2013-12-01T00:00:00\", \"2014-12-01T00:00:00\", \"2015-12-01T00:00:00\", \"2016-12-01T00:00:00\", \"2017-12-01T00:00:00\", \"2018-12-01T00:00:00\", \"2019-12-01T00:00:00\"], \"y\": [5415884, 5530476, 5759899, 5740646, 6156596, 6396210, 6518961, 6786189, 6971452, 6898826, 6855357]}],\n",
              "                        {\"template\": {\"data\": {\"bar\": [{\"error_x\": {\"color\": \"#2a3f5f\"}, \"error_y\": {\"color\": \"#2a3f5f\"}, \"marker\": {\"line\": {\"color\": \"#E5ECF6\", \"width\": 0.5}}, \"type\": \"bar\"}], \"barpolar\": [{\"marker\": {\"line\": {\"color\": \"#E5ECF6\", \"width\": 0.5}}, \"type\": \"barpolar\"}], \"carpet\": [{\"aaxis\": {\"endlinecolor\": \"#2a3f5f\", \"gridcolor\": \"white\", \"linecolor\": \"white\", \"minorgridcolor\": \"white\", \"startlinecolor\": \"#2a3f5f\"}, \"baxis\": {\"endlinecolor\": \"#2a3f5f\", \"gridcolor\": \"white\", \"linecolor\": \"white\", \"minorgridcolor\": \"white\", \"startlinecolor\": \"#2a3f5f\"}, \"type\": \"carpet\"}], \"choropleth\": [{\"colorbar\": {\"outlinewidth\": 0, \"ticks\": \"\"}, \"type\": \"choropleth\"}], \"contour\": [{\"colorbar\": {\"outlinewidth\": 0, \"ticks\": \"\"}, \"colorscale\": [[0.0, \"#0d0887\"], [0.1111111111111111, \"#46039f\"], [0.2222222222222222, \"#7201a8\"], [0.3333333333333333, \"#9c179e\"], [0.4444444444444444, \"#bd3786\"], [0.5555555555555556, \"#d8576b\"], [0.6666666666666666, \"#ed7953\"], [0.7777777777777778, \"#fb9f3a\"], [0.8888888888888888, \"#fdca26\"], [1.0, \"#f0f921\"]], \"type\": \"contour\"}], \"contourcarpet\": [{\"colorbar\": {\"outlinewidth\": 0, \"ticks\": \"\"}, \"type\": \"contourcarpet\"}], \"heatmap\": [{\"colorbar\": {\"outlinewidth\": 0, \"ticks\": \"\"}, \"colorscale\": [[0.0, \"#0d0887\"], [0.1111111111111111, \"#46039f\"], [0.2222222222222222, \"#7201a8\"], [0.3333333333333333, \"#9c179e\"], [0.4444444444444444, \"#bd3786\"], [0.5555555555555556, \"#d8576b\"], [0.6666666666666666, \"#ed7953\"], [0.7777777777777778, \"#fb9f3a\"], [0.8888888888888888, \"#fdca26\"], [1.0, \"#f0f921\"]], \"type\": \"heatmap\"}], \"heatmapgl\": [{\"colorbar\": {\"outlinewidth\": 0, \"ticks\": \"\"}, \"colorscale\": [[0.0, \"#0d0887\"], [0.1111111111111111, \"#46039f\"], [0.2222222222222222, \"#7201a8\"], [0.3333333333333333, \"#9c179e\"], [0.4444444444444444, \"#bd3786\"], [0.5555555555555556, \"#d8576b\"], [0.6666666666666666, \"#ed7953\"], [0.7777777777777778, \"#fb9f3a\"], [0.8888888888888888, \"#fdca26\"], [1.0, \"#f0f921\"]], \"type\": \"heatmapgl\"}], \"histogram\": [{\"marker\": {\"colorbar\": {\"outlinewidth\": 0, \"ticks\": \"\"}}, \"type\": \"histogram\"}], \"histogram2d\": [{\"colorbar\": {\"outlinewidth\": 0, \"ticks\": \"\"}, \"colorscale\": [[0.0, \"#0d0887\"], [0.1111111111111111, \"#46039f\"], [0.2222222222222222, \"#7201a8\"], [0.3333333333333333, \"#9c179e\"], [0.4444444444444444, \"#bd3786\"], [0.5555555555555556, \"#d8576b\"], [0.6666666666666666, \"#ed7953\"], [0.7777777777777778, \"#fb9f3a\"], [0.8888888888888888, \"#fdca26\"], [1.0, \"#f0f921\"]], \"type\": \"histogram2d\"}], \"histogram2dcontour\": [{\"colorbar\": {\"outlinewidth\": 0, \"ticks\": \"\"}, \"colorscale\": [[0.0, \"#0d0887\"], [0.1111111111111111, \"#46039f\"], [0.2222222222222222, \"#7201a8\"], [0.3333333333333333, \"#9c179e\"], [0.4444444444444444, \"#bd3786\"], [0.5555555555555556, \"#d8576b\"], [0.6666666666666666, \"#ed7953\"], [0.7777777777777778, \"#fb9f3a\"], [0.8888888888888888, \"#fdca26\"], [1.0, \"#f0f921\"]], \"type\": \"histogram2dcontour\"}], \"mesh3d\": [{\"colorbar\": {\"outlinewidth\": 0, \"ticks\": \"\"}, \"type\": \"mesh3d\"}], \"parcoords\": [{\"line\": {\"colorbar\": {\"outlinewidth\": 0, \"ticks\": \"\"}}, \"type\": \"parcoords\"}], \"pie\": [{\"automargin\": true, \"type\": \"pie\"}], \"scatter\": [{\"marker\": {\"colorbar\": {\"outlinewidth\": 0, \"ticks\": \"\"}}, \"type\": \"scatter\"}], \"scatter3d\": [{\"line\": {\"colorbar\": {\"outlinewidth\": 0, \"ticks\": \"\"}}, \"marker\": {\"colorbar\": {\"outlinewidth\": 0, \"ticks\": \"\"}}, \"type\": \"scatter3d\"}], \"scattercarpet\": [{\"marker\": {\"colorbar\": {\"outlinewidth\": 0, \"ticks\": \"\"}}, \"type\": \"scattercarpet\"}], \"scattergeo\": [{\"marker\": {\"colorbar\": {\"outlinewidth\": 0, \"ticks\": \"\"}}, \"type\": \"scattergeo\"}], \"scattergl\": [{\"marker\": {\"colorbar\": {\"outlinewidth\": 0, \"ticks\": \"\"}}, \"type\": \"scattergl\"}], \"scattermapbox\": [{\"marker\": {\"colorbar\": {\"outlinewidth\": 0, \"ticks\": \"\"}}, \"type\": \"scattermapbox\"}], \"scatterpolar\": [{\"marker\": {\"colorbar\": {\"outlinewidth\": 0, \"ticks\": \"\"}}, \"type\": \"scatterpolar\"}], \"scatterpolargl\": [{\"marker\": {\"colorbar\": {\"outlinewidth\": 0, \"ticks\": \"\"}}, \"type\": \"scatterpolargl\"}], \"scatterternary\": [{\"marker\": {\"colorbar\": {\"outlinewidth\": 0, \"ticks\": \"\"}}, \"type\": \"scatterternary\"}], \"surface\": [{\"colorbar\": {\"outlinewidth\": 0, \"ticks\": \"\"}, \"colorscale\": [[0.0, \"#0d0887\"], [0.1111111111111111, \"#46039f\"], [0.2222222222222222, \"#7201a8\"], [0.3333333333333333, \"#9c179e\"], [0.4444444444444444, \"#bd3786\"], [0.5555555555555556, \"#d8576b\"], [0.6666666666666666, \"#ed7953\"], [0.7777777777777778, \"#fb9f3a\"], [0.8888888888888888, \"#fdca26\"], [1.0, \"#f0f921\"]], \"type\": \"surface\"}], \"table\": [{\"cells\": {\"fill\": {\"color\": \"#EBF0F8\"}, \"line\": {\"color\": \"white\"}}, \"header\": {\"fill\": {\"color\": \"#C8D4E3\"}, \"line\": {\"color\": \"white\"}}, \"type\": \"table\"}]}, \"layout\": {\"annotationdefaults\": {\"arrowcolor\": \"#2a3f5f\", \"arrowhead\": 0, \"arrowwidth\": 1}, \"coloraxis\": {\"colorbar\": {\"outlinewidth\": 0, \"ticks\": \"\"}}, \"colorscale\": {\"diverging\": [[0, \"#8e0152\"], [0.1, \"#c51b7d\"], [0.2, \"#de77ae\"], [0.3, \"#f1b6da\"], [0.4, \"#fde0ef\"], [0.5, \"#f7f7f7\"], [0.6, \"#e6f5d0\"], [0.7, \"#b8e186\"], [0.8, \"#7fbc41\"], [0.9, \"#4d9221\"], [1, \"#276419\"]], \"sequential\": [[0.0, \"#0d0887\"], [0.1111111111111111, \"#46039f\"], [0.2222222222222222, \"#7201a8\"], [0.3333333333333333, \"#9c179e\"], [0.4444444444444444, \"#bd3786\"], [0.5555555555555556, \"#d8576b\"], [0.6666666666666666, \"#ed7953\"], [0.7777777777777778, \"#fb9f3a\"], [0.8888888888888888, \"#fdca26\"], [1.0, \"#f0f921\"]], \"sequentialminus\": [[0.0, \"#0d0887\"], [0.1111111111111111, \"#46039f\"], [0.2222222222222222, \"#7201a8\"], [0.3333333333333333, \"#9c179e\"], [0.4444444444444444, \"#bd3786\"], [0.5555555555555556, \"#d8576b\"], [0.6666666666666666, \"#ed7953\"], [0.7777777777777778, \"#fb9f3a\"], [0.8888888888888888, \"#fdca26\"], [1.0, \"#f0f921\"]]}, \"colorway\": [\"#636efa\", \"#EF553B\", \"#00cc96\", \"#ab63fa\", \"#FFA15A\", \"#19d3f3\", \"#FF6692\", \"#B6E880\", \"#FF97FF\", \"#FECB52\"], \"font\": {\"color\": \"#2a3f5f\"}, \"geo\": {\"bgcolor\": \"white\", \"lakecolor\": \"white\", \"landcolor\": \"#E5ECF6\", \"showlakes\": true, \"showland\": true, \"subunitcolor\": \"white\"}, \"hoverlabel\": {\"align\": \"left\"}, \"hovermode\": \"closest\", \"mapbox\": {\"style\": \"light\"}, \"paper_bgcolor\": \"white\", \"plot_bgcolor\": \"#E5ECF6\", \"polar\": {\"angularaxis\": {\"gridcolor\": \"white\", \"linecolor\": \"white\", \"ticks\": \"\"}, \"bgcolor\": \"#E5ECF6\", \"radialaxis\": {\"gridcolor\": \"white\", \"linecolor\": \"white\", \"ticks\": \"\"}}, \"scene\": {\"xaxis\": {\"backgroundcolor\": \"#E5ECF6\", \"gridcolor\": \"white\", \"gridwidth\": 2, \"linecolor\": \"white\", \"showbackground\": true, \"ticks\": \"\", \"zerolinecolor\": \"white\"}, \"yaxis\": {\"backgroundcolor\": \"#E5ECF6\", \"gridcolor\": \"white\", \"gridwidth\": 2, \"linecolor\": \"white\", \"showbackground\": true, \"ticks\": \"\", \"zerolinecolor\": \"white\"}, \"zaxis\": {\"backgroundcolor\": \"#E5ECF6\", \"gridcolor\": \"white\", \"gridwidth\": 2, \"linecolor\": \"white\", \"showbackground\": true, \"ticks\": \"\", \"zerolinecolor\": \"white\"}}, \"shapedefaults\": {\"line\": {\"color\": \"#2a3f5f\"}}, \"ternary\": {\"aaxis\": {\"gridcolor\": \"white\", \"linecolor\": \"white\", \"ticks\": \"\"}, \"baxis\": {\"gridcolor\": \"white\", \"linecolor\": \"white\", \"ticks\": \"\"}, \"bgcolor\": \"#E5ECF6\", \"caxis\": {\"gridcolor\": \"white\", \"linecolor\": \"white\", \"ticks\": \"\"}}, \"title\": {\"x\": 0.05}, \"xaxis\": {\"automargin\": true, \"gridcolor\": \"white\", \"linecolor\": \"white\", \"ticks\": \"\", \"title\": {\"standoff\": 15}, \"zerolinecolor\": \"white\", \"zerolinewidth\": 2}, \"yaxis\": {\"automargin\": true, \"gridcolor\": \"white\", \"linecolor\": \"white\", \"ticks\": \"\", \"title\": {\"standoff\": 15}, \"zerolinecolor\": \"white\", \"zerolinewidth\": 2}}}, \"title\": {\"text\": \"Evolucion del desempleo en el Ecuador \\ud83c\\uddea\\ud83c\\udde8\", \"x\": 0.5, \"xanchor\": \"center\", \"y\": 0.9, \"yanchor\": \"top\"}, \"xaxis\": {\"title\": {\"text\": \"Tiempo en a\\u00f1os\"}}, \"yaxis\": {\"title\": {\"text\": \"Cantidad de desempleados\"}}},\n",
              "                        {\"responsive\": true}\n",
              "                    ).then(function(){\n",
              "                            \n",
              "var gd = document.getElementById('f535abfd-009e-46c2-a0cf-1ff55f4734f5');\n",
              "var x = new MutationObserver(function (mutations, observer) {{\n",
              "        var display = window.getComputedStyle(gd).display;\n",
              "        if (!display || display === 'none') {{\n",
              "            console.log([gd, 'removed!']);\n",
              "            Plotly.purge(gd);\n",
              "            observer.disconnect();\n",
              "        }}\n",
              "}});\n",
              "\n",
              "// Listen for the removal of the full notebook cells\n",
              "var notebookContainer = gd.closest('#notebook-container');\n",
              "if (notebookContainer) {{\n",
              "    x.observe(notebookContainer, {childList: true});\n",
              "}}\n",
              "\n",
              "// Listen for the clearing of the current output cell\n",
              "var outputEl = gd.closest('.output');\n",
              "if (outputEl) {{\n",
              "    x.observe(outputEl, {childList: true});\n",
              "}}\n",
              "\n",
              "                        })\n",
              "                };\n",
              "                \n",
              "            </script>\n",
              "        </div>\n",
              "</body>\n",
              "</html>"
            ]
          },
          "metadata": {}
        }
      ]
    },
    {
      "cell_type": "code",
      "metadata": {
        "colab": {
          "base_uri": "https://localhost:8080/",
          "height": 617
        },
        "id": "4tVoAQoCH0HF",
        "outputId": "5aa50c50-930f-45ba-9825-404707f1d33f"
      },
      "source": [
        "import matplotlib.pyplot as plt\n",
        "f = plt.figure(figsize=(15,5))\n",
        "ax = plt.gca()\n",
        "resume_empleados.plot(ax=ax, figsize=(15,5))\n",
        "resume_empleados.plot(ax=ax, kind='bar', figsize=(15,5))"
      ],
      "execution_count": 304,
      "outputs": [
        {
          "output_type": "execute_result",
          "data": {
            "text/plain": [
              "<matplotlib.axes._subplots.AxesSubplot at 0x7fc17e8d5810>"
            ]
          },
          "metadata": {},
          "execution_count": 304
        },
        {
          "output_type": "display_data",
          "data": {
            "image/png": "[encoded data removed]",
            "text/plain": [
              "<Figure size 1500x500 with 1 Axes>"
            ]
          },
          "metadata": {}
        }
      ]
    },
    {
      "cell_type": "code",
      "metadata": {
        "id": "Qqe7Ea0_1X9H"
      },
      "source": [
        "total_df = df[df.index == df.index.max()].sort_values(\"Total\", ascending=False).reset_index(drop=True)\n",
        "total_styled = total_df.style.bar(subset=[\"Total\"], color='#5fba7d', vmax=total_df[\"Total\"].sum())\n",
        "\n"
      ],
      "execution_count": 269,
      "outputs": []
    }
  ]
}