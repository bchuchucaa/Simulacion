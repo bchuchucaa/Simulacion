{
  "nbformat": 4,
  "nbformat_minor": 0,
  "metadata": {
    "colab": {
      "name": "SimulacionExamen.ipynb",
      "provenance": [],
      "collapsed_sections": [],
      "authorship_tag": "ABX9TyMyFjaRzbyGgMc+FGqhIM4M",
      "include_colab_link": true
    },
    "kernelspec": {
      "name": "python3",
      "display_name": "Python 3"
    },
    "language_info": {
      "name": "python"
    }
  },
  "cells": [
    {
      "cell_type": "markdown",
      "metadata": {
        "id": "view-in-github",
        "colab_type": "text"
      },
      "source": [
        "<a href=\"https://colab.research.google.com/github/bchuchucaa/Simulacion/blob/main/SimulacionExamen.ipynb\" target=\"_parent\"><img src=\"https://colab.research.google.com/assets/colab-badge.svg\" alt=\"Open In Colab\"/></a>"
      ]
    },
    {
      "cell_type": "code",
      "source": [
        "import random\n",
        "import plotly.express as px\n",
        "import matplotlib.pyplot as plt\n",
        "import math"
      ],
      "metadata": {
        "id": "eCQ7BsezI7Ps"
      },
      "execution_count": null,
      "outputs": []
    },
    {
      "cell_type": "markdown",
      "source": [
        ""
      ],
      "metadata": {
        "id": "m2tdkApfHtt2"
      }
    },
    {
      "cell_type": "markdown",
      "source": [
        "Realice un programa que permita calcular el valor de Chi-Cuadrada y genere la gráfica de distribución de los 100 primeros números pseudo-aleatorios generados por los métodos de cuadrados medios y productos medios. Emplee el siguiente nivel de significancia α=0.05 Las semillas para generar los números son las siguientes: Cuadrados medios: Xo=74731897457, D=7 Congruencia lineal: a=74731897457, b=37747318974, Xo=7, M=19 Random de Python semilla (12082021)"
      ],
      "metadata": {
        "id": "jAVQtdfaGtjh"
      }
    },
    {
      "cell_type": "code",
      "source": [
        "#Cuadrados medios\n",
        "cuad_med_ran_num = []\n",
        "xo = int(74731897457)\n",
        "digitos = int(7)\n",
        "iteraciones = int(100)\n",
        "xn = xo\n",
        "print(\"It. \\t Xn \\t Ui \\t Rn\")\n",
        "for i in range(iteraciones):\n",
        "  xnn = xn**2\n",
        "  txnn = str(xnn).zfill(8)\n",
        "  tam = len(txnn)\n",
        "  ui = int(txnn[int(tam/2-digitos/2):int(tam/2+digitos/2)])\n",
        "  rn = ui / (int('9'*digitos)+1)\n",
        "  cuad_med_ran_num.append(rn)\n",
        "  #print(str(i) + \"\\t\" + str(xn) + \"\\t\"+ str(ui)+\"\\t\"+str(rn))\n",
        "  xn = ui"
      ],
      "metadata": {
        "colab": {
          "base_uri": "https://localhost:8080/"
        },
        "id": "XTvmchLXGR2V",
        "outputId": "5366c2a5-7c90-4b2a-89b8-b5e9a2c37048"
      },
      "execution_count": null,
      "outputs": [
        {
          "output_type": "stream",
          "name": "stdout",
          "text": [
            "It. \t Xn \t Ui \t Rn\n"
          ]
        }
      ]
    },
    {
      "cell_type": "code",
      "source": [
        "cuad_med_ran_num[0]"
      ],
      "metadata": {
        "colab": {
          "base_uri": "https://localhost:8080/"
        },
        "id": "9eMfn4M0GWKw",
        "outputId": "b3a7990f-c966-4a8f-870a-30f78da8b74c"
      },
      "execution_count": null,
      "outputs": [
        {
          "output_type": "execute_result",
          "data": {
            "text/plain": [
              "0.4975235"
            ]
          },
          "metadata": {},
          "execution_count": 9
        }
      ]
    },
    {
      "cell_type": "markdown",
      "source": [
        "Generamos los numeros aletorios mediante congruencia lineal"
      ],
      "metadata": {
        "id": "D2OOzq5JH0O-"
      }
    },
    {
      "cell_type": "code",
      "source": [
        "cong_lineal_ramdom=[]\n",
        "xo = int(7)\n",
        "a = int(74731897457)\n",
        "b = int(37747318974)\n",
        "m = int(19)\n",
        "iteraciones = int(100)\n",
        "xn = xo\n",
        "print(\"It. \\t Xn \\t Ui\")\n",
        "for i in range(iteraciones):\n",
        "  xnn = (a*xn+b) % m\n",
        "  ui = xnn/m\n",
        "  cong_lineal_ramdom.append(ui)\n",
        "  #print(str(i) + \"\\t\"+ str(xnn)+\"\\t\"+str(ui))\n",
        "  xn = xnn"
      ],
      "metadata": {
        "colab": {
          "base_uri": "https://localhost:8080/"
        },
        "id": "XnzdRfd5GVcX",
        "outputId": "e1140077-2743-45b1-a1ed-69c47eb0cd3d"
      },
      "execution_count": null,
      "outputs": [
        {
          "output_type": "stream",
          "name": "stdout",
          "text": [
            "It. \t Xn \t Ui\n"
          ]
        }
      ]
    },
    {
      "cell_type": "code",
      "source": [
        "#RAMDOM DE PYTHON\n",
        "random.seed(12082021)\n",
        "py_rand_num = []\n",
        "for i in range(100):\n",
        "  x = random.uniform(0,1)\n",
        "  py_rand_num.append(x)\n"
      ],
      "metadata": {
        "id": "bMYtgCgMI2Rq"
      },
      "execution_count": null,
      "outputs": []
    },
    {
      "cell_type": "markdown",
      "source": [
        "1. Tomar la serie de N números pseudo-aleatorios. \n",
        "2. Dividir la serie en n intervalos (grados libertad)\n",
        "n=sqrt(N)=sqrt(100)=10 (grados de libertad)"
      ],
      "metadata": {
        "id": "3qh_vKvOJzE4"
      }
    },
    {
      "cell_type": "markdown",
      "source": [
        ""
      ],
      "metadata": {
        "id": "k5mHSxpRKIBf"
      }
    },
    {
      "cell_type": "code",
      "source": [
        "print('Grados de libertad ',math.sqrt(100))"
      ],
      "metadata": {
        "colab": {
          "base_uri": "https://localhost:8080/"
        },
        "id": "Dvsx98sDQpIj",
        "outputId": "cdb9a548-bdb6-4cab-a598-14dfc78b872f"
      },
      "execution_count": null,
      "outputs": [
        {
          "output_type": "stream",
          "name": "stdout",
          "text": [
            "Grados de libertad  10.0\n"
          ]
        }
      ]
    },
    {
      "cell_type": "code",
      "source": [
        "\n",
        "def comprobe_uniform(arr):\n",
        "  dict={}\n",
        "  dict={0:0,1:0,2:0,3:0,4:0,5:0,6:0,7:0,8:0,9:0}\n",
        "  for i in arr:\n",
        "      if(i>=0 and i<=0.1):\n",
        "        dict[0]=dict.get(0)+1\n",
        "      elif(i>0.1 and i<= 0.2):\n",
        "        dict[1]=dict.get(1)+1\n",
        "      elif(i>0.2 and i<= 0.3):\n",
        "        dict[2]=dict.get(2)+1\n",
        "      elif(i>0.3 and i<= 0.4):\n",
        "        dict[3]=dict.get(3)+1\n",
        "      elif(i>0.4 and i<= 0.5):\n",
        "        dict[4]=dict.get(4)+1\n",
        "      elif(i>0.5 and i<= 0.6):\n",
        "        dict[5]=dict.get(5)+1\n",
        "      elif(i>0.6 and i<= 0.7):\n",
        "        dict[6]=dict.get(6)+1\n",
        "      elif(i>0.7 and i<= 0.8):\n",
        "        dict[7]=dict.get(7)+1\n",
        "      elif(i>0.8 and i<= 0.9 ):\n",
        "        dict[8]=dict.get(8)+1\n",
        "      elif(i>0.9 and i<= 1  ):\n",
        "        dict[9]=dict.get(9)+1\n",
        "  return dict"
      ],
      "metadata": {
        "id": "VmqfWIteJ21P"
      },
      "execution_count": null,
      "outputs": []
    },
    {
      "cell_type": "code",
      "source": [
        "dict_cuad_med={}\n",
        "dict_cong_lin={}\n",
        "dict_py_ran_num={}\n",
        "dict_cuad_med=comprobe_uniform(cuad_med_ran_num)\n",
        "dict_cong_lin=comprobe_uniform(cong_lineal_ramdom)\n",
        "dict_py_ran_num=comprobe_uniform(py_rand_num)"
      ],
      "metadata": {
        "id": "fH-6IDGVJpOw"
      },
      "execution_count": null,
      "outputs": []
    },
    {
      "cell_type": "code",
      "source": [
        "print(dict_cuad_med)\n",
        "print(dict_cong_lin)\n",
        "print(dict_py_ran_num)"
      ],
      "metadata": {
        "colab": {
          "base_uri": "https://localhost:8080/"
        },
        "id": "M2qAfQD8PT40",
        "outputId": "1b2ae173-d096-45ca-9e46-f7f5bf2f676b"
      },
      "execution_count": null,
      "outputs": [
        {
          "output_type": "stream",
          "name": "stdout",
          "text": [
            "{0: 6, 1: 9, 2: 10, 3: 10, 4: 6, 5: 12, 6: 13, 7: 11, 8: 7, 9: 16}\n",
            "{0: 11, 1: 11, 2: 0, 3: 22, 4: 0, 5: 0, 6: 11, 7: 11, 8: 23, 9: 11}\n",
            "{0: 3, 1: 8, 2: 12, 3: 13, 4: 8, 5: 16, 6: 10, 7: 14, 8: 7, 9: 9}\n"
          ]
        }
      ]
    },
    {
      "cell_type": "code",
      "source": [
        "fig = plt.figure()\n",
        "ax = fig.add_axes([0,0,1,1])\n",
        "rangos = dict_cuad_med.keys()\n",
        "valores =dict_cuad_med.values()\n",
        "ax.bar(rangos,valores)\n",
        "plt.title(\"CUADRADOS MEDIOS \")\n",
        "plt.show()"
      ],
      "metadata": {
        "colab": {
          "base_uri": "https://localhost:8080/",
          "height": 352
        },
        "id": "DeoMiytJQ1ge",
        "outputId": "08dc952a-f332-452d-b1ee-94ab8bce7768"
      },
      "execution_count": null,
      "outputs": [
        {
          "output_type": "display_data",
          "data": {
            "image/png": "[encoded data removed]",
            "text/plain": [
              "<Figure size 432x288 with 1 Axes>"
            ]
          },
          "metadata": {
            "needs_background": "light"
          }
        }
      ]
    },
    {
      "cell_type": "code",
      "source": [
        "fig = plt.figure()\n",
        "ax = fig.add_axes([0,0,1,1])\n",
        "rangos = dict_cong_lin.keys()\n",
        "valores =dict_cong_lin.values()\n",
        "ax.bar(rangos,valores)\n",
        "plt.title(\"CONGRUENCIA LINEAL\")\n",
        "plt.show()"
      ],
      "metadata": {
        "colab": {
          "base_uri": "https://localhost:8080/",
          "height": 352
        },
        "id": "SXWa19zyRgWm",
        "outputId": "03d8a991-9b8f-41d3-b59c-5e569b7cb9a8"
      },
      "execution_count": null,
      "outputs": [
        {
          "output_type": "display_data",
          "data": {
            "image/png": "[encoded data removed]",
            "text/plain": [
              "<Figure size 432x288 with 1 Axes>"
            ]
          },
          "metadata": {
            "needs_background": "light"
          }
        }
      ]
    },
    {
      "cell_type": "code",
      "source": [
        "fig = plt.figure()\n",
        "ax = fig.add_axes([0,0,1,1])\n",
        "rangos = dict_py_ran_num.keys()\n",
        "valores =dict_py_ran_num.values()\n",
        "ax.bar(rangos,valores)\n",
        "plt.title(\"PYTHON RANDOM\")\n",
        "plt.show()"
      ],
      "metadata": {
        "colab": {
          "base_uri": "https://localhost:8080/",
          "height": 352
        },
        "id": "LI4XNAFnRkyM",
        "outputId": "f5472b46-74bc-49ce-ccd0-5aeae6e525be"
      },
      "execution_count": null,
      "outputs": [
        {
          "output_type": "display_data",
          "data": {
            "image/png": "[encoded data removed]",
            "text/plain": [
              "<Figure size 432x288 with 1 Axes>"
            ]
          },
          "metadata": {
            "needs_background": "light"
          }
        }
      ]
    },
    {
      "cell_type": "markdown",
      "source": [
        "5. Calcular Chi – Cuadrado: χ_0^2=(∑_(i=1)^k 〖(O_i-E_i)〗^2)/E_i"
      ],
      "metadata": {
        "id": "QTOwHnTTVn_1"
      }
    },
    {
      "cell_type": "code",
      "source": [
        "\n",
        "def calculate_chi(array):\n",
        "  chi=[]\n",
        "  for i in array:\n",
        "    value=array[i]\n",
        "    res=((value-10)**2)/10\n",
        "    print(res)\n",
        "    chi.append(res)\n",
        "  return chi "
      ],
      "metadata": {
        "id": "akc-270KSrHa"
      },
      "execution_count": null,
      "outputs": []
    },
    {
      "cell_type": "code",
      "source": [
        "chi_cuad_med=calculate_chi(dict_cuad_med)\n",
        "chi_cong_lin=calculate_chi(dict_cong_lin)\n",
        "chi_py_rand=calculate_chi(dict_py_ran_num)\n"
      ],
      "metadata": {
        "colab": {
          "base_uri": "https://localhost:8080/"
        },
        "id": "2x2X32QUTvH-",
        "outputId": "3c078c7f-04ad-4d95-a6df-8f968c200056"
      },
      "execution_count": null,
      "outputs": [
        {
          "output_type": "stream",
          "name": "stdout",
          "text": [
            "1.6\n",
            "0.1\n",
            "0.0\n",
            "0.0\n",
            "1.6\n",
            "0.4\n",
            "0.9\n",
            "0.1\n",
            "0.9\n",
            "3.6\n",
            "0.1\n",
            "0.1\n",
            "10.0\n",
            "14.4\n",
            "10.0\n",
            "10.0\n",
            "0.1\n",
            "0.1\n",
            "16.9\n",
            "0.1\n",
            "4.9\n",
            "0.4\n",
            "0.4\n",
            "0.9\n",
            "0.4\n",
            "3.6\n",
            "0.0\n",
            "1.6\n",
            "0.9\n",
            "0.1\n"
          ]
        }
      ]
    },
    {
      "cell_type": "code",
      "source": [
        "print('Cuadrados medios CHI = ',sum(chi_cuad_med))\n",
        "print('Congruencia lineal = ',sum(chi_cong_lin))\n",
        "print('Python random = ',sum(chi_py_rand))"
      ],
      "metadata": {
        "colab": {
          "base_uri": "https://localhost:8080/"
        },
        "id": "Yvrd7LUpT0N6",
        "outputId": "317b619b-004c-49cc-d3f8-a94192f3bbfe"
      },
      "execution_count": null,
      "outputs": [
        {
          "output_type": "stream",
          "name": "stdout",
          "text": [
            "Cuadrados medios CHI =  9.200000000000001\n",
            "Congruencia lineal =  61.800000000000004\n",
            "Python random =  13.200000000000001\n"
          ]
        }
      ]
    },
    {
      "cell_type": "markdown",
      "source": [
        "VALOR 16.91\n",
        "CAUDRADOS MEDIOS H0 ES VALIDA\n",
        "\n",
        "CONGRUENCIA LINEAL H0 NO ES VALIDA\n",
        "\n",
        "PYTHON RABDOM H0 ES VALIDA\n",
        "\n"
      ],
      "metadata": {
        "id": "i7k4Md5aXPMa"
      }
    }
  ]
}